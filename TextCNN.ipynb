{
 "cells": [
  {
   "cell_type": "markdown",
   "metadata": {
    "uuid": "9b3e1bd0-a98c-474b-abd9-caa34c7f80bb"
   },
   "source": [
    "### 注意:下面的代码是参考冠军的代码进行实现的,冠军代码链接:https://github.com/poteman/Alibaba-3rd-Security-Algorithm-Challenge"
   ]
  },
  {
   "cell_type": "markdown",
   "metadata": {
    "uuid": "8a938f0e-0d69-4e86-b11f-ebd3ae3b5d45"
   },
   "source": [
    "# 工具包导入&数据读取"
   ]
  },
  {
   "cell_type": "markdown",
   "metadata": {
    "uuid": "be452676-6e62-4ec3-90d1-158c5ad95dc9"
   },
   "source": [
    "## 工具包导入"
   ]
  },
  {
   "cell_type": "code",
   "execution_count": 1,
   "metadata": {
    "uuid": "f4a99c5b-c6fb-41a9-8437-aa508972657f"
   },
   "outputs": [
    {
     "name": "stderr",
     "output_type": "stream",
     "text": [
      "/home/bruceyu/anaconda3/lib/python3.6/site-packages/dask/dataframe/utils.py:14: FutureWarning: pandas.util.testing is deprecated. Use the functions in the public API at pandas.testing instead.\n",
      "  import pandas.util.testing as tm\n"
     ]
    }
   ],
   "source": [
    "import pandas as pd\n",
    "import numpy as np\n",
    "\n",
    "import matplotlib.pyplot as plt\n",
    "\n",
    "import lightgbm as lgb\n",
    "from sklearn.model_selection import train_test_split\n",
    "from sklearn.preprocessing import OneHotEncoder\n",
    "\n",
    "from tqdm import tqdm_notebook\n",
    "from sklearn.preprocessing import LabelBinarizer,LabelEncoder\n",
    "\n",
    "import warnings\n",
    "warnings.filterwarnings('ignore')\n",
    "%matplotlib inline"
   ]
  },
  {
   "cell_type": "markdown",
   "metadata": {
    "uuid": "ff7c725e-ff61-4a61-94ff-c217c01c858a"
   },
   "source": [
    "## 内存工具包"
   ]
  },
  {
   "cell_type": "code",
   "execution_count": 2,
   "metadata": {
    "collapsed": true,
    "uuid": "8f12d59b-91c1-4749-86c3-e927ade2bd90"
   },
   "outputs": [],
   "source": [
    "import numpy as np\n",
    "import pandas as pd\n",
    "from tqdm import tqdm  \n",
    "\n",
    "class _Data_Preprocess:\n",
    "    def __init__(self):\n",
    "        self.int8_max = np.iinfo(np.int8).max\n",
    "        self.int8_min = np.iinfo(np.int8).min\n",
    "\n",
    "        self.int16_max = np.iinfo(np.int16).max\n",
    "        self.int16_min = np.iinfo(np.int16).min\n",
    "\n",
    "        self.int32_max = np.iinfo(np.int32).max\n",
    "        self.int32_min = np.iinfo(np.int32).min\n",
    "\n",
    "        self.int64_max = np.iinfo(np.int64).max\n",
    "        self.int64_min = np.iinfo(np.int64).min\n",
    "\n",
    "        self.float16_max = np.finfo(np.float16).max\n",
    "        self.float16_min = np.finfo(np.float16).min\n",
    "\n",
    "        self.float32_max = np.finfo(np.float32).max\n",
    "        self.float32_min = np.finfo(np.float32).min\n",
    "\n",
    "        self.float64_max = np.finfo(np.float64).max\n",
    "        self.float64_min = np.finfo(np.float64).min\n",
    "\n",
    "    '''\n",
    "    function: _get_type(self,min_val, max_val, types)\n",
    "       get the correct types that our columns can trans to\n",
    "\n",
    "    '''\n",
    "\n",
    "    def _get_type(self, min_val, max_val, types):\n",
    "        if types == 'int':\n",
    "            if max_val <= self.int8_max and min_val >= self.int8_min:\n",
    "                return np.int8\n",
    "            elif max_val <= self.int16_max <= max_val and min_val >= self.int16_min:\n",
    "                return np.int16\n",
    "            elif max_val <= self.int32_max and min_val >= self.int32_min:\n",
    "                return np.int32\n",
    "            return None\n",
    "\n",
    "        elif types == 'float':\n",
    "            if max_val <= self.float16_max and min_val >= self.float16_min:\n",
    "                return np.float16\n",
    "            if max_val <= self.float32_max and min_val >= self.float32_min:\n",
    "                return np.float32\n",
    "            if max_val <= self.float64_max and min_val >= self.float64_min:\n",
    "                return np.float64\n",
    "            return None\n",
    "\n",
    "    '''\n",
    "    function: _memory_process(self,df) \n",
    "       column data types trans, to save more memory\n",
    "    '''\n",
    "\n",
    "    def _memory_process(self, df):\n",
    "        init_memory = df.memory_usage().sum() / 1024 ** 2 / 1024\n",
    "        print('Original data occupies {} GB memory.'.format(init_memory))\n",
    "        df_cols = df.columns\n",
    "\n",
    "          \n",
    "        for col in tqdm_notebook(df_cols):\n",
    "            try:\n",
    "                if 'float' in str(df[col].dtypes):\n",
    "                    max_val = df[col].max()\n",
    "                    min_val = df[col].min()\n",
    "                    trans_types = self._get_type(min_val, max_val, 'float')\n",
    "                    if trans_types is not None:\n",
    "                        df[col] = df[col].astype(trans_types)\n",
    "                elif 'int' in str(df[col].dtypes):\n",
    "                    max_val = df[col].max()\n",
    "                    min_val = df[col].min()\n",
    "                    trans_types = self._get_type(min_val, max_val, 'int')\n",
    "                    if trans_types is not None:\n",
    "                        df[col] = df[col].astype(trans_types)\n",
    "            except:\n",
    "                print(' Can not do any process for column, {}.'.format(col)) \n",
    "        afterprocess_memory = df.memory_usage().sum() / 1024 ** 2 / 1024\n",
    "        print('After processing, the data occupies {} GB memory.'.format(afterprocess_memory))\n",
    "        return df"
   ]
  },
  {
   "cell_type": "code",
   "execution_count": 3,
   "metadata": {
    "collapsed": true,
    "uuid": "db6c48e6-4885-458b-9aee-20aabef8f945"
   },
   "outputs": [],
   "source": [
    "memory_process = _Data_Preprocess()"
   ]
  },
  {
   "cell_type": "markdown",
   "metadata": {
    "uuid": "73642197-8dfd-4787-98f7-3b27d438c9c4"
   },
   "source": [
    "## 数据读取"
   ]
  },
  {
   "cell_type": "markdown",
   "metadata": {
    "uuid": "f7887381-acbe-49ef-918f-16057927b3b4"
   },
   "source": [
    "为了方便分析，我们读取89806693条数据进行处理"
   ]
  },
  {
   "cell_type": "code",
   "execution_count": 4,
   "metadata": {
    "collapsed": true,
    "uuid": "1ba898fd-82ef-4f68-b41e-c7094989e7e1"
   },
   "outputs": [],
   "source": [
    "'''import zipfile\n",
    "from functools import partial\n",
    "#提取压缩文件中的csv的内容\n",
    "def get_data(path):\n",
    "    with zipfile.ZipFile(path, 'r') as z:  #传入训练集或测试集数据路径\n",
    "        if len(z.filelist) == 1:\n",
    "            filename = z.filelist[0].filename\n",
    "            if filename.endswith('.csv'):\n",
    "                f = z.open(filename)\n",
    "                data = pd.read_csv(f)\n",
    "                return data'''\n",
    "\n",
    "# myzip=ZipFile('zip_name.zip')\n",
    "# f=myzip.open('csv_name.csv')\n",
    "# df=pd.read_csv(f)\n",
    "# path1  = ZipFile('security_train.zip')\n",
    "# f1=path1.open('security_train.csv')\n",
    "# train = pd.read_csv(f1)\n",
    "# path2  = ZipFile('security_test.zip')\n",
    "# f2=path2.open('security_train.csv')\n",
    "# test  = pd.read_csv(f2)\n",
    "\n",
    "train = pd.read_csv('./security_train.csv')\n",
    "test  = pd.read_csv('./security_test.csv')\n",
    "\n"
   ]
  },
  {
   "cell_type": "code",
   "execution_count": 5,
   "metadata": {
    "scrolled": false,
    "uuid": "80db1909-92fa-4ed0-bfad-00169f794d1e"
   },
   "outputs": [
    {
     "data": {
      "text/html": [
       "<div>\n",
       "<style scoped>\n",
       "    .dataframe tbody tr th:only-of-type {\n",
       "        vertical-align: middle;\n",
       "    }\n",
       "\n",
       "    .dataframe tbody tr th {\n",
       "        vertical-align: top;\n",
       "    }\n",
       "\n",
       "    .dataframe thead th {\n",
       "        text-align: right;\n",
       "    }\n",
       "</style>\n",
       "<table border=\"1\" class=\"dataframe\">\n",
       "  <thead>\n",
       "    <tr style=\"text-align: right;\">\n",
       "      <th></th>\n",
       "      <th>file_id</th>\n",
       "      <th>label</th>\n",
       "      <th>api</th>\n",
       "      <th>tid</th>\n",
       "      <th>index</th>\n",
       "    </tr>\n",
       "  </thead>\n",
       "  <tbody>\n",
       "    <tr>\n",
       "      <th>0</th>\n",
       "      <td>1</td>\n",
       "      <td>5</td>\n",
       "      <td>LdrLoadDll</td>\n",
       "      <td>2488</td>\n",
       "      <td>0</td>\n",
       "    </tr>\n",
       "    <tr>\n",
       "      <th>1</th>\n",
       "      <td>1</td>\n",
       "      <td>5</td>\n",
       "      <td>LdrGetProcedureAddress</td>\n",
       "      <td>2488</td>\n",
       "      <td>1</td>\n",
       "    </tr>\n",
       "    <tr>\n",
       "      <th>2</th>\n",
       "      <td>1</td>\n",
       "      <td>5</td>\n",
       "      <td>LdrGetProcedureAddress</td>\n",
       "      <td>2488</td>\n",
       "      <td>2</td>\n",
       "    </tr>\n",
       "    <tr>\n",
       "      <th>3</th>\n",
       "      <td>1</td>\n",
       "      <td>5</td>\n",
       "      <td>LdrGetProcedureAddress</td>\n",
       "      <td>2488</td>\n",
       "      <td>3</td>\n",
       "    </tr>\n",
       "    <tr>\n",
       "      <th>4</th>\n",
       "      <td>1</td>\n",
       "      <td>5</td>\n",
       "      <td>LdrGetProcedureAddress</td>\n",
       "      <td>2488</td>\n",
       "      <td>4</td>\n",
       "    </tr>\n",
       "  </tbody>\n",
       "</table>\n",
       "</div>"
      ],
      "text/plain": [
       "   file_id  label                     api   tid  index\n",
       "0        1      5              LdrLoadDll  2488      0\n",
       "1        1      5  LdrGetProcedureAddress  2488      1\n",
       "2        1      5  LdrGetProcedureAddress  2488      2\n",
       "3        1      5  LdrGetProcedureAddress  2488      3\n",
       "4        1      5  LdrGetProcedureAddress  2488      4"
      ]
     },
     "execution_count": 5,
     "metadata": {},
     "output_type": "execute_result"
    }
   ],
   "source": [
    "train.head()"
   ]
  },
  {
   "cell_type": "code",
   "execution_count": 7,
   "metadata": {},
   "outputs": [
    {
     "name": "stdout",
     "output_type": "stream",
     "text": [
      "Original data occupies 3.3455601409077644 GB memory.\n"
     ]
    },
    {
     "data": {
      "application/vnd.jupyter.widget-view+json": {
       "model_id": "1007c69010834ad99f5cafceedda9667",
       "version_major": 2,
       "version_minor": 0
      },
      "text/plain": [
       "A Jupyter Widget"
      ]
     },
     "metadata": {},
     "output_type": "display_data"
    },
    {
     "name": "stdout",
     "output_type": "stream",
     "text": [
      "After processing, the data occupies 1.7564191306009889 GB memory.\n"
     ]
    }
   ],
   "source": [
    "train=memory_process._memory_process(train)"
   ]
  },
  {
   "cell_type": "code",
   "execution_count": 6,
   "metadata": {},
   "outputs": [
    {
     "name": "stdout",
     "output_type": "stream",
     "text": [
      "Original data occupies 2.362977832555771 GB memory.\n"
     ]
    },
    {
     "data": {
      "application/vnd.jupyter.widget-view+json": {
       "model_id": "13fceb94f36c492fa70e6ccee3df403f",
       "version_major": 2,
       "version_minor": 0
      },
      "text/plain": [
       "A Jupyter Widget"
      ]
     },
     "metadata": {},
     "output_type": "display_data"
    },
    {
     "name": "stdout",
     "output_type": "stream",
     "text": [
      "After processing, the data occupies 1.4768611900508404 GB memory.\n"
     ]
    }
   ],
   "source": [
    "test=memory_process._memory_process(test)"
   ]
  },
  {
   "cell_type": "markdown",
   "metadata": {
    "uuid": "7cbc669c-fc8c-4352-8578-7f20acb0ae62"
   },
   "source": [
    "# 数据预处理"
   ]
  },
  {
   "cell_type": "markdown",
   "metadata": {
    "uuid": "1b2f5db5-be90-447b-9a23-42b9a43cefa7"
   },
   "source": [
    "## 字符串转化为数字"
   ]
  },
  {
   "cell_type": "markdown",
   "metadata": {
    "uuid": "e306f8c4-10c7-4d75-883c-8d7020c214af"
   },
   "source": [
    "为了将数据输入进我们的神经网络,我们需要将字符串转化为数字的形式,此处我们对api 构建映射表将其转化为数字"
   ]
  },
  {
   "cell_type": "code",
   "execution_count": 8,
   "metadata": {
    "collapsed": true,
    "uuid": "9c97ee66-2200-4fb6-8502-f733afff5bc3"
   },
   "outputs": [],
   "source": [
    "unique_api = train['api'].unique()"
   ]
  },
  {
   "cell_type": "code",
   "execution_count": 9,
   "metadata": {
    "uuid": "04ea2e24-1103-4ae1-ad02-ef224c5d282c"
   },
   "outputs": [
    {
     "data": {
      "text/plain": [
       "(295,)"
      ]
     },
     "execution_count": 9,
     "metadata": {},
     "output_type": "execute_result"
    }
   ],
   "source": [
    "unique_api.shape"
   ]
  },
  {
   "cell_type": "code",
   "execution_count": 10,
   "metadata": {
    "collapsed": true,
    "uuid": "dbacea88-ba03-4e49-bc34-c5e82f9c9ef8"
   },
   "outputs": [],
   "source": [
    "api2index = {item:(i+1) for i,item in enumerate(unique_api)}\n",
    "index2api = {(i+1):item for i,item in enumerate(unique_api)}"
   ]
  },
  {
   "cell_type": "code",
   "execution_count": 11,
   "metadata": {
    "collapsed": true,
    "uuid": "7a0dd66f-17f4-4ed4-993c-a26ab3db70fb"
   },
   "outputs": [],
   "source": [
    "train['api_idx'] = train['api'].map(api2index)\n",
    "test['api_idx']  = test['api'].map(api2index)"
   ]
  },
  {
   "cell_type": "code",
   "execution_count": 24,
   "metadata": {},
   "outputs": [
    {
     "data": {
      "text/html": [
       "<div>\n",
       "<style scoped>\n",
       "    .dataframe tbody tr th:only-of-type {\n",
       "        vertical-align: middle;\n",
       "    }\n",
       "\n",
       "    .dataframe tbody tr th {\n",
       "        vertical-align: top;\n",
       "    }\n",
       "\n",
       "    .dataframe thead th {\n",
       "        text-align: right;\n",
       "    }\n",
       "</style>\n",
       "<table border=\"1\" class=\"dataframe\">\n",
       "  <thead>\n",
       "    <tr style=\"text-align: right;\">\n",
       "      <th></th>\n",
       "      <th>file_id</th>\n",
       "      <th>label</th>\n",
       "      <th>api</th>\n",
       "      <th>tid</th>\n",
       "      <th>index</th>\n",
       "      <th>api_idx</th>\n",
       "    </tr>\n",
       "  </thead>\n",
       "  <tbody>\n",
       "    <tr>\n",
       "      <th>0</th>\n",
       "      <td>1</td>\n",
       "      <td>5</td>\n",
       "      <td>LdrLoadDll</td>\n",
       "      <td>2488</td>\n",
       "      <td>0</td>\n",
       "      <td>1</td>\n",
       "    </tr>\n",
       "    <tr>\n",
       "      <th>1</th>\n",
       "      <td>1</td>\n",
       "      <td>5</td>\n",
       "      <td>LdrGetProcedureAddress</td>\n",
       "      <td>2488</td>\n",
       "      <td>1</td>\n",
       "      <td>2</td>\n",
       "    </tr>\n",
       "    <tr>\n",
       "      <th>2</th>\n",
       "      <td>1</td>\n",
       "      <td>5</td>\n",
       "      <td>LdrGetProcedureAddress</td>\n",
       "      <td>2488</td>\n",
       "      <td>2</td>\n",
       "      <td>2</td>\n",
       "    </tr>\n",
       "    <tr>\n",
       "      <th>3</th>\n",
       "      <td>1</td>\n",
       "      <td>5</td>\n",
       "      <td>LdrGetProcedureAddress</td>\n",
       "      <td>2488</td>\n",
       "      <td>3</td>\n",
       "      <td>2</td>\n",
       "    </tr>\n",
       "    <tr>\n",
       "      <th>4</th>\n",
       "      <td>1</td>\n",
       "      <td>5</td>\n",
       "      <td>LdrGetProcedureAddress</td>\n",
       "      <td>2488</td>\n",
       "      <td>4</td>\n",
       "      <td>2</td>\n",
       "    </tr>\n",
       "  </tbody>\n",
       "</table>\n",
       "</div>"
      ],
      "text/plain": [
       "   file_id  label                     api   tid  index  api_idx\n",
       "0        1      5              LdrLoadDll  2488      0        1\n",
       "1        1      5  LdrGetProcedureAddress  2488      1        2\n",
       "2        1      5  LdrGetProcedureAddress  2488      2        2\n",
       "3        1      5  LdrGetProcedureAddress  2488      3        2\n",
       "4        1      5  LdrGetProcedureAddress  2488      4        2"
      ]
     },
     "execution_count": 24,
     "metadata": {},
     "output_type": "execute_result"
    }
   ],
   "source": [
    "train.head()"
   ]
  },
  {
   "cell_type": "markdown",
   "metadata": {
    "uuid": "21d591b7-4191-48a9-b1f5-655f0b8b9b66"
   },
   "source": [
    "## 获取每个文件对应的字符串序列"
   ]
  },
  {
   "cell_type": "markdown",
   "metadata": {
    "uuid": "f85b5bae-59e8-4113-9863-ba867dfc79b2"
   },
   "source": [
    "我们获取每个文件调用的api序列"
   ]
  },
  {
   "cell_type": "code",
   "execution_count": 12,
   "metadata": {
    "collapsed": true,
    "uuid": "ab6e8621-05d4-457e-ac30-e9afb319645d"
   },
   "outputs": [],
   "source": [
    "def get_sequence(df,period_idx):\n",
    "    seq_list = []\n",
    "    for _id,begin in enumerate(period_idx[:-1]):\n",
    "        seq_list.append(df.iloc[begin:period_idx[_id+1]]['api_idx'].values)\n",
    "    seq_list.append(df.iloc[period_idx[-1]:]['api_idx'].values)\n",
    "    return seq_list "
   ]
  },
  {
   "cell_type": "code",
   "execution_count": 13,
   "metadata": {
    "collapsed": true,
    "uuid": "98b794ee-fbdf-427c-92b1-b449d9077ec5"
   },
   "outputs": [],
   "source": [
    "train_period_idx = train.file_id.drop_duplicates(keep='first').index.values\n",
    "test_period_idx  = test.file_id.drop_duplicates(keep='first').index.values"
   ]
  },
  {
   "cell_type": "code",
   "execution_count": 14,
   "metadata": {
    "collapsed": true,
    "uuid": "3f40c42f-3909-4c70-b047-19039f19ff2d"
   },
   "outputs": [],
   "source": [
    "train_df = train[['file_id','label']].drop_duplicates(keep='first')\n",
    "test_df  = test[['file_id']].drop_duplicates(keep='first')"
   ]
  },
  {
   "cell_type": "code",
   "execution_count": 15,
   "metadata": {
    "collapsed": true,
    "uuid": "d4f8e808-49ae-4e66-9955-7a5272d2fd8c"
   },
   "outputs": [],
   "source": [
    "train_df['seq'] = get_sequence(train,train_period_idx)\n",
    "test_df['seq']  = get_sequence(test,test_period_idx)"
   ]
  },
  {
   "cell_type": "code",
   "execution_count": 25,
   "metadata": {},
   "outputs": [
    {
     "data": {
      "text/html": [
       "<div>\n",
       "<style scoped>\n",
       "    .dataframe tbody tr th:only-of-type {\n",
       "        vertical-align: middle;\n",
       "    }\n",
       "\n",
       "    .dataframe tbody tr th {\n",
       "        vertical-align: top;\n",
       "    }\n",
       "\n",
       "    .dataframe thead th {\n",
       "        text-align: right;\n",
       "    }\n",
       "</style>\n",
       "<table border=\"1\" class=\"dataframe\">\n",
       "  <thead>\n",
       "    <tr style=\"text-align: right;\">\n",
       "      <th></th>\n",
       "      <th>file_id</th>\n",
       "      <th>seq</th>\n",
       "    </tr>\n",
       "  </thead>\n",
       "  <tbody>\n",
       "    <tr>\n",
       "      <th>0</th>\n",
       "      <td>1</td>\n",
       "      <td>[46.0, 106.0, 113.0, 173.0, 46.0, 106.0, 113.0...</td>\n",
       "    </tr>\n",
       "    <tr>\n",
       "      <th>97</th>\n",
       "      <td>2</td>\n",
       "      <td>[46.0, 46.0, 46.0, 4.0, 37.0, 37.0, 37.0, 37.0...</td>\n",
       "    </tr>\n",
       "    <tr>\n",
       "      <th>1458</th>\n",
       "      <td>3</td>\n",
       "      <td>[55.0, 13.0, 18.0, 63.0, 63.0, 41.0, 41.0, 41....</td>\n",
       "    </tr>\n",
       "    <tr>\n",
       "      <th>1474</th>\n",
       "      <td>4</td>\n",
       "      <td>[1.0, 2.0, 108.0, 150.0, 151.0, 4.0, 1.0, 2.0,...</td>\n",
       "    </tr>\n",
       "    <tr>\n",
       "      <th>1667</th>\n",
       "      <td>5</td>\n",
       "      <td>[55.0, 9.0, 10.0, 9.0, 12.0, 2.0, 2.0, 2.0, 2....</td>\n",
       "    </tr>\n",
       "  </tbody>\n",
       "</table>\n",
       "</div>"
      ],
      "text/plain": [
       "      file_id                                                seq\n",
       "0           1  [46.0, 106.0, 113.0, 173.0, 46.0, 106.0, 113.0...\n",
       "97          2  [46.0, 46.0, 46.0, 4.0, 37.0, 37.0, 37.0, 37.0...\n",
       "1458        3  [55.0, 13.0, 18.0, 63.0, 63.0, 41.0, 41.0, 41....\n",
       "1474        4  [1.0, 2.0, 108.0, 150.0, 151.0, 4.0, 1.0, 2.0,...\n",
       "1667        5  [55.0, 9.0, 10.0, 9.0, 12.0, 2.0, 2.0, 2.0, 2...."
      ]
     },
     "execution_count": 25,
     "metadata": {},
     "output_type": "execute_result"
    }
   ],
   "source": [
    "test_df.head()"
   ]
  },
  {
   "cell_type": "markdown",
   "metadata": {
    "uuid": "82f902ee-2efb-4623-955d-566fb4852b48"
   },
   "source": [
    "# TextCNN构建"
   ]
  },
  {
   "cell_type": "code",
   "execution_count": 16,
   "metadata": {
    "collapsed": true,
    "uuid": "c37dcb83-e928-45f4-b753-aa847c60b15e"
   },
   "outputs": [],
   "source": [
    "from keras.preprocessing.text import Tokenizer\n",
    "from keras.preprocessing.sequence import pad_sequences\n",
    "from keras.layers import Dense, Input, LSTM, Lambda, Embedding, Dropout, Activation,GRU,Bidirectional\n",
    "from keras.layers import Conv1D,Conv2D,MaxPooling2D,GlobalAveragePooling1D,GlobalMaxPooling1D, MaxPooling1D, Flatten\n",
    "\n",
    "from tensorflow.compat.v1.keras.layers import CuDNNGRU\n",
    "from tensorflow.compat.v1.keras.layers import CuDNNLSTM\n",
    "from tensorflow.compat.v1.keras.layers import CuDNNGRU\n",
    "from keras.layers import SpatialDropout1D\n",
    "from keras.layers.merge import concatenate, Concatenate, Average, Dot, Maximum, Multiply, Subtract, average\n",
    "from keras.models import Model\n",
    "from keras.optimizers import RMSprop,Adam\n",
    "from keras.layers.normalization import BatchNormalization\n",
    "from keras.callbacks import EarlyStopping, ModelCheckpoint\n",
    "from keras.optimizers import SGD\n",
    "from keras import backend as K\n",
    "from sklearn.decomposition import TruncatedSVD, NMF, LatentDirichletAllocation\n",
    "from keras.layers import SpatialDropout1D\n",
    "from keras.layers.wrappers import Bidirectional"
   ]
  },
  {
   "cell_type": "markdown",
   "metadata": {
    "uuid": "8f580f66-7575-4611-a1d0-5dc6b61026fb"
   },
   "source": [
    "## TextCNN的网络结构"
   ]
  },
  {
   "cell_type": "code",
   "execution_count": 17,
   "metadata": {
    "collapsed": true,
    "uuid": "af91b65e-63b1-4b5f-8c2d-96b75d42378a"
   },
   "outputs": [],
   "source": [
    "def TextCNN(max_len,max_cnt,embed_size, num_filters,kernel_size,conv_action, mask_zero):\n",
    "    \n",
    "    _input = Input(shape=(max_len,), dtype='int32')\n",
    "    _embed = Embedding(max_cnt, embed_size, input_length=max_len, mask_zero=mask_zero)(_input)\n",
    "    #_embed = SpatialDropout1D(0.15)(_embed)\n",
    "    _embed = SpatialDropout1D(0.25)(_embed)\n",
    "    warppers = []\n",
    "    \n",
    "    for _kernel_size in kernel_size:\n",
    "        conv1d = Conv1D(filters=num_filters, kernel_size=_kernel_size, activation=conv_action)(_embed)\n",
    "        warppers.append(GlobalMaxPooling1D()(conv1d))\n",
    "                        \n",
    "    fc = concatenate(warppers)\n",
    "    fc = Dropout(0.5)(fc)\n",
    "    #fc = BatchNormalization()(fc)\n",
    "    fc = Dense(256, activation='relu')(fc)\n",
    "    fc = Dropout(0.25)(fc)\n",
    "    #fc = BatchNormalization()(fc) \n",
    "    preds = Dense(8, activation = 'softmax')(fc)\n",
    "    \n",
    "    model = Model(inputs=_input, outputs=preds)\n",
    "    \n",
    "    model.compile(loss='categorical_crossentropy',\n",
    "        optimizer='adam',\n",
    "        metrics=['accuracy'])\n",
    "    return model"
   ]
  },
  {
   "cell_type": "markdown",
   "metadata": {
    "uuid": "4de419a9-9f71-4600-8c3d-35ac6f2c65ac"
   },
   "source": [
    "## TextCNN训练&测试"
   ]
  },
  {
   "cell_type": "markdown",
   "metadata": {
    "uuid": "895e0d16-6aaf-4e16-b0ef-7d6083a298dd"
   },
   "source": [
    "### 序列截断"
   ]
  },
  {
   "cell_type": "markdown",
   "metadata": {
    "uuid": "a2c78a9c-8249-4eef-bd2d-245be7b8ec87"
   },
   "source": [
    "考虑到我们的GPU的存储空间,我们对我们的序列进行一定长度的截断,此处我们将长度设置为6000"
   ]
  },
  {
   "cell_type": "code",
   "execution_count": 18,
   "metadata": {
    "collapsed": true,
    "uuid": "df718168-afe1-4a38-9cf7-3e5dff61a72a"
   },
   "outputs": [],
   "source": [
    "train_labels = pd.get_dummies(train_df.label).values\n",
    "train_seq    = pad_sequences(train_df.seq.values, maxlen = 6000)\n",
    "test_seq     = pad_sequences(test_df.seq.values, maxlen = 6000)"
   ]
  },
  {
   "cell_type": "markdown",
   "metadata": {
    "uuid": "42c08f72-47ce-405c-9404-23d5b8b3825a"
   },
   "source": [
    "### 模型训练&预测"
   ]
  },
  {
   "cell_type": "code",
   "execution_count": 19,
   "metadata": {
    "collapsed": true,
    "uuid": "948b53d6-410b-4418-997c-bceb613838e1"
   },
   "outputs": [],
   "source": [
    "from sklearn.model_selection import StratifiedKFold,KFold \n",
    "skf = KFold(n_splits=5, shuffle=True)"
   ]
  },
  {
   "cell_type": "code",
   "execution_count": 22,
   "metadata": {
    "collapsed": true,
    "uuid": "70241de2-deec-4f6e-a487-c321a8128abf"
   },
   "outputs": [],
   "source": [
    "max_len     = 6000\n",
    "max_cnt     = 296\n",
    "embed_size  = 256\n",
    "num_filters = 64\n",
    "#kernel_size = [2,4,6,8,10,12,14]\n",
    "kernel_size = [2,3,4,5]\n",
    "conv_action = 'relu'\n",
    "mask_zero   = False\n",
    "TRAIN       = True"
   ]
  },
  {
   "cell_type": "code",
   "execution_count": 23,
   "metadata": {
    "uuid": "ee0b0166-fffb-4547-864c-c1e4932f48ba"
   },
   "outputs": [
    {
     "name": "stdout",
     "output_type": "stream",
     "text": [
      "FOLD: \n",
      "2778 11109\n",
      "Epoch 1/100\n",
      "174/174 [==============================] - 812s 5s/step - loss: 1.3583 - accuracy: 0.5142 - val_loss: 0.5756 - val_accuracy: 0.8092\n",
      "Epoch 2/100\n",
      "174/174 [==============================] - 809s 5s/step - loss: 0.6168 - accuracy: 0.7962 - val_loss: 0.4465 - val_accuracy: 0.8560\n",
      "Epoch 3/100\n",
      "174/174 [==============================] - 809s 5s/step - loss: 0.5126 - accuracy: 0.8406 - val_loss: 0.4157 - val_accuracy: 0.8657\n",
      "Epoch 4/100\n",
      "174/174 [==============================] - 815s 5s/step - loss: 0.4648 - accuracy: 0.8494 - val_loss: 0.3971 - val_accuracy: 0.8744\n",
      "Epoch 5/100\n",
      "174/174 [==============================] - 816s 5s/step - loss: 0.4485 - accuracy: 0.8570 - val_loss: 0.3956 - val_accuracy: 0.8744\n",
      "Epoch 6/100\n",
      "174/174 [==============================] - 827s 5s/step - loss: 0.4264 - accuracy: 0.8676 - val_loss: 0.3696 - val_accuracy: 0.8790\n",
      "Epoch 7/100\n",
      "174/174 [==============================] - 810s 5s/step - loss: 0.3872 - accuracy: 0.8774 - val_loss: 0.3635 - val_accuracy: 0.8837\n",
      "Epoch 8/100\n",
      "174/174 [==============================] - 827s 5s/step - loss: 0.3747 - accuracy: 0.8796 - val_loss: 0.3623 - val_accuracy: 0.8855\n",
      "Epoch 9/100\n",
      "174/174 [==============================] - 818s 5s/step - loss: 0.3698 - accuracy: 0.8862 - val_loss: 0.3457 - val_accuracy: 0.8913\n",
      "Epoch 10/100\n",
      "174/174 [==============================] - 816s 5s/step - loss: 0.3433 - accuracy: 0.8903 - val_loss: 0.3476 - val_accuracy: 0.8916\n",
      "Epoch 11/100\n",
      "174/174 [==============================] - 809s 5s/step - loss: 0.3403 - accuracy: 0.8869 - val_loss: 0.3639 - val_accuracy: 0.8866\n",
      "Epoch 12/100\n",
      "174/174 [==============================] - 809s 5s/step - loss: 0.3306 - accuracy: 0.8936 - val_loss: 0.3350 - val_accuracy: 0.8913\n",
      "Epoch 13/100\n",
      "174/174 [==============================] - 808s 5s/step - loss: 0.3273 - accuracy: 0.8915 - val_loss: 0.3482 - val_accuracy: 0.8916\n",
      "Epoch 14/100\n",
      "174/174 [==============================] - 811s 5s/step - loss: 0.3254 - accuracy: 0.8943 - val_loss: 0.3370 - val_accuracy: 0.8924\n",
      "Epoch 15/100\n",
      "174/174 [==============================] - 810s 5s/step - loss: 0.3125 - accuracy: 0.8903 - val_loss: 0.3273 - val_accuracy: 0.8902\n",
      "Epoch 16/100\n",
      "174/174 [==============================] - 811s 5s/step - loss: 0.3142 - accuracy: 0.9005 - val_loss: 0.3527 - val_accuracy: 0.8906\n",
      "Epoch 17/100\n",
      "174/174 [==============================] - 814s 5s/step - loss: 0.3035 - accuracy: 0.8963 - val_loss: 0.3277 - val_accuracy: 0.8960\n",
      "Epoch 18/100\n",
      "174/174 [==============================] - 810s 5s/step - loss: 0.2890 - accuracy: 0.9017 - val_loss: 0.3363 - val_accuracy: 0.8931\n",
      "FOLD: \n",
      "2778 11109\n",
      "Epoch 1/100\n",
      "174/174 [==============================] - 808s 5s/step - loss: 1.3580 - accuracy: 0.5220 - val_loss: 0.5364 - val_accuracy: 0.8348\n",
      "Epoch 2/100\n",
      "174/174 [==============================] - 810s 5s/step - loss: 0.6079 - accuracy: 0.8097 - val_loss: 0.4289 - val_accuracy: 0.8657\n",
      "Epoch 3/100\n",
      "174/174 [==============================] - 810s 5s/step - loss: 0.4954 - accuracy: 0.8415 - val_loss: 0.4079 - val_accuracy: 0.8665\n",
      "Epoch 4/100\n",
      "174/174 [==============================] - 810s 5s/step - loss: 0.4536 - accuracy: 0.8537 - val_loss: 0.3851 - val_accuracy: 0.8790\n",
      "Epoch 5/100\n",
      "174/174 [==============================] - 810s 5s/step - loss: 0.4201 - accuracy: 0.8647 - val_loss: 0.3844 - val_accuracy: 0.8726\n",
      "Epoch 6/100\n",
      "174/174 [==============================] - 811s 5s/step - loss: 0.4017 - accuracy: 0.8736 - val_loss: 0.3570 - val_accuracy: 0.8819\n",
      "Epoch 7/100\n",
      "174/174 [==============================] - 811s 5s/step - loss: 0.3932 - accuracy: 0.8747 - val_loss: 0.3728 - val_accuracy: 0.8837\n",
      "Epoch 8/100\n",
      "174/174 [==============================] - 815s 5s/step - loss: 0.3718 - accuracy: 0.8788 - val_loss: 0.3519 - val_accuracy: 0.8906\n",
      "Epoch 9/100\n",
      "174/174 [==============================] - 813s 5s/step - loss: 0.3598 - accuracy: 0.8840 - val_loss: 0.3439 - val_accuracy: 0.8927\n",
      "Epoch 10/100\n",
      "174/174 [==============================] - 812s 5s/step - loss: 0.3431 - accuracy: 0.8849 - val_loss: 0.3441 - val_accuracy: 0.8909\n",
      "Epoch 11/100\n",
      "174/174 [==============================] - 812s 5s/step - loss: 0.3425 - accuracy: 0.8879 - val_loss: 0.3429 - val_accuracy: 0.8873\n",
      "Epoch 12/100\n",
      "174/174 [==============================] - 820s 5s/step - loss: 0.3362 - accuracy: 0.8882 - val_loss: 0.3544 - val_accuracy: 0.8880\n",
      "Epoch 13/100\n",
      "174/174 [==============================] - 812s 5s/step - loss: 0.3218 - accuracy: 0.8935 - val_loss: 0.3414 - val_accuracy: 0.8906\n",
      "Epoch 14/100\n",
      "174/174 [==============================] - 813s 5s/step - loss: 0.3149 - accuracy: 0.8945 - val_loss: 0.3361 - val_accuracy: 0.8895\n",
      "Epoch 15/100\n",
      "174/174 [==============================] - 815s 5s/step - loss: 0.3054 - accuracy: 0.8980 - val_loss: 0.3297 - val_accuracy: 0.8891\n",
      "Epoch 16/100\n",
      "174/174 [==============================] - 813s 5s/step - loss: 0.3076 - accuracy: 0.8968 - val_loss: 0.3436 - val_accuracy: 0.8967\n",
      "Epoch 17/100\n",
      "174/174 [==============================] - 813s 5s/step - loss: 0.3025 - accuracy: 0.8965 - val_loss: 0.3291 - val_accuracy: 0.8942\n",
      "Epoch 18/100\n",
      "174/174 [==============================] - 814s 5s/step - loss: 0.3012 - accuracy: 0.8994 - val_loss: 0.3351 - val_accuracy: 0.8974\n",
      "Epoch 19/100\n",
      "174/174 [==============================] - 813s 5s/step - loss: 0.2868 - accuracy: 0.8989 - val_loss: 0.3408 - val_accuracy: 0.8909\n",
      "Epoch 20/100\n",
      "174/174 [==============================] - 814s 5s/step - loss: 0.2936 - accuracy: 0.9046 - val_loss: 0.3291 - val_accuracy: 0.8988\n",
      "Epoch 21/100\n",
      "174/174 [==============================] - 816s 5s/step - loss: 0.2715 - accuracy: 0.9023 - val_loss: 0.3326 - val_accuracy: 0.8970\n",
      "Epoch 22/100\n",
      "174/174 [==============================] - 816s 5s/step - loss: 0.2825 - accuracy: 0.8988 - val_loss: 0.3409 - val_accuracy: 0.8895\n",
      "Epoch 23/100\n",
      "174/174 [==============================] - 816s 5s/step - loss: 0.2849 - accuracy: 0.9021 - val_loss: 0.3342 - val_accuracy: 0.8970\n",
      "FOLD: \n",
      "2777 11110\n",
      "Epoch 1/100\n",
      "174/174 [==============================] - 815s 5s/step - loss: 1.3491 - accuracy: 0.5197 - val_loss: 0.5797 - val_accuracy: 0.8221\n",
      "Epoch 2/100\n",
      "174/174 [==============================] - 818s 5s/step - loss: 0.6126 - accuracy: 0.8044 - val_loss: 0.4798 - val_accuracy: 0.8491\n",
      "Epoch 3/100\n",
      "174/174 [==============================] - 820s 5s/step - loss: 0.5068 - accuracy: 0.8376 - val_loss: 0.4429 - val_accuracy: 0.8585\n",
      "Epoch 4/100\n",
      "174/174 [==============================] - 821s 5s/step - loss: 0.4514 - accuracy: 0.8572 - val_loss: 0.4272 - val_accuracy: 0.8686\n",
      "Epoch 5/100\n",
      "174/174 [==============================] - 818s 5s/step - loss: 0.4079 - accuracy: 0.8677 - val_loss: 0.4164 - val_accuracy: 0.8693\n",
      "Epoch 6/100\n",
      "174/174 [==============================] - 812s 5s/step - loss: 0.4078 - accuracy: 0.8678 - val_loss: 0.4057 - val_accuracy: 0.8693\n",
      "Epoch 7/100\n",
      "174/174 [==============================] - 813s 5s/step - loss: 0.4010 - accuracy: 0.8735 - val_loss: 0.3899 - val_accuracy: 0.8772\n",
      "Epoch 8/100\n",
      "174/174 [==============================] - 812s 5s/step - loss: 0.3552 - accuracy: 0.8901 - val_loss: 0.3948 - val_accuracy: 0.8736\n",
      "Epoch 9/100\n",
      "174/174 [==============================] - 818s 5s/step - loss: 0.3391 - accuracy: 0.8895 - val_loss: 0.3769 - val_accuracy: 0.8754\n",
      "Epoch 10/100\n",
      "174/174 [==============================] - 818s 5s/step - loss: 0.3412 - accuracy: 0.8875 - val_loss: 0.3909 - val_accuracy: 0.8718\n",
      "Epoch 11/100\n",
      "174/174 [==============================] - 818s 5s/step - loss: 0.3399 - accuracy: 0.8899 - val_loss: 0.3883 - val_accuracy: 0.8772\n",
      "Epoch 12/100\n",
      "174/174 [==============================] - 820s 5s/step - loss: 0.3202 - accuracy: 0.8985 - val_loss: 0.3792 - val_accuracy: 0.8790\n",
      "FOLD: \n",
      "2777 11110\n",
      "Epoch 1/100\n",
      "174/174 [==============================] - 819s 5s/step - loss: 1.3347 - accuracy: 0.5251 - val_loss: 0.5623 - val_accuracy: 0.8171\n",
      "Epoch 2/100\n",
      "174/174 [==============================] - 817s 5s/step - loss: 0.6310 - accuracy: 0.8008 - val_loss: 0.4516 - val_accuracy: 0.8563\n",
      "Epoch 3/100\n",
      "174/174 [==============================] - 816s 5s/step - loss: 0.5084 - accuracy: 0.8418 - val_loss: 0.4294 - val_accuracy: 0.8606\n",
      "Epoch 4/100\n",
      "174/174 [==============================] - 815s 5s/step - loss: 0.4455 - accuracy: 0.8607 - val_loss: 0.4036 - val_accuracy: 0.8693\n",
      "Epoch 5/100\n",
      "174/174 [==============================] - 815s 5s/step - loss: 0.4263 - accuracy: 0.8655 - val_loss: 0.3858 - val_accuracy: 0.8758\n",
      "Epoch 6/100\n",
      "174/174 [==============================] - 817s 5s/step - loss: 0.3934 - accuracy: 0.8747 - val_loss: 0.3837 - val_accuracy: 0.8797\n",
      "Epoch 7/100\n",
      "174/174 [==============================] - 820s 5s/step - loss: 0.3740 - accuracy: 0.8791 - val_loss: 0.3729 - val_accuracy: 0.8765\n",
      "Epoch 8/100\n",
      "174/174 [==============================] - 818s 5s/step - loss: 0.3700 - accuracy: 0.8826 - val_loss: 0.3731 - val_accuracy: 0.8830\n",
      "Epoch 9/100\n",
      "174/174 [==============================] - 818s 5s/step - loss: 0.3345 - accuracy: 0.8917 - val_loss: 0.3639 - val_accuracy: 0.8844\n",
      "Epoch 10/100\n",
      "174/174 [==============================] - 821s 5s/step - loss: 0.3411 - accuracy: 0.8901 - val_loss: 0.3575 - val_accuracy: 0.8855\n",
      "Epoch 11/100\n",
      "174/174 [==============================] - 817s 5s/step - loss: 0.3333 - accuracy: 0.8921 - val_loss: 0.3569 - val_accuracy: 0.8855\n",
      "Epoch 12/100\n",
      "174/174 [==============================] - 817s 5s/step - loss: 0.3421 - accuracy: 0.8903 - val_loss: 0.3564 - val_accuracy: 0.8876\n",
      "Epoch 13/100\n",
      "174/174 [==============================] - 815s 5s/step - loss: 0.3265 - accuracy: 0.8925 - val_loss: 0.3582 - val_accuracy: 0.8891\n",
      "Epoch 14/100\n",
      "174/174 [==============================] - 814s 5s/step - loss: 0.3126 - accuracy: 0.8941 - val_loss: 0.3533 - val_accuracy: 0.8873\n",
      "Epoch 15/100\n",
      "174/174 [==============================] - 818s 5s/step - loss: 0.3372 - accuracy: 0.8858 - val_loss: 0.3518 - val_accuracy: 0.8855\n",
      "Epoch 16/100\n",
      "174/174 [==============================] - 815s 5s/step - loss: 0.3030 - accuracy: 0.8940 - val_loss: 0.3508 - val_accuracy: 0.8884\n",
      "Epoch 17/100\n",
      "174/174 [==============================] - 814s 5s/step - loss: 0.2992 - accuracy: 0.8975 - val_loss: 0.3499 - val_accuracy: 0.8855\n",
      "Epoch 18/100\n",
      "174/174 [==============================] - 815s 5s/step - loss: 0.2897 - accuracy: 0.9026 - val_loss: 0.3425 - val_accuracy: 0.8916\n",
      "Epoch 19/100\n",
      "174/174 [==============================] - 821s 5s/step - loss: 0.2955 - accuracy: 0.8982 - val_loss: 0.3462 - val_accuracy: 0.8898\n",
      "Epoch 20/100\n",
      "174/174 [==============================] - 816s 5s/step - loss: 0.2914 - accuracy: 0.8981 - val_loss: 0.3545 - val_accuracy: 0.8905\n",
      "Epoch 21/100\n",
      "174/174 [==============================] - 814s 5s/step - loss: 0.2893 - accuracy: 0.8968 - val_loss: 0.3511 - val_accuracy: 0.8894\n",
      "FOLD: \n",
      "2777 11110\n",
      "Epoch 1/100\n",
      "174/174 [==============================] - 815s 5s/step - loss: 1.3479 - accuracy: 0.5219 - val_loss: 0.5516 - val_accuracy: 0.8376\n",
      "Epoch 2/100\n",
      "174/174 [==============================] - 814s 5s/step - loss: 0.6096 - accuracy: 0.8115 - val_loss: 0.4467 - val_accuracy: 0.8628\n",
      "Epoch 3/100\n",
      "174/174 [==============================] - 817s 5s/step - loss: 0.4993 - accuracy: 0.8360 - val_loss: 0.4345 - val_accuracy: 0.8689\n",
      "Epoch 4/100\n",
      "174/174 [==============================] - 818s 5s/step - loss: 0.4619 - accuracy: 0.8478 - val_loss: 0.4175 - val_accuracy: 0.8736\n",
      "Epoch 5/100\n",
      "174/174 [==============================] - 831s 5s/step - loss: 0.4366 - accuracy: 0.8562 - val_loss: 0.4014 - val_accuracy: 0.8794\n",
      "Epoch 6/100\n",
      "174/174 [==============================] - 820s 5s/step - loss: 0.4157 - accuracy: 0.8692 - val_loss: 0.3989 - val_accuracy: 0.8797\n",
      "Epoch 7/100\n",
      "174/174 [==============================] - 822s 5s/step - loss: 0.3787 - accuracy: 0.8773 - val_loss: 0.3837 - val_accuracy: 0.8880\n",
      "Epoch 8/100\n",
      "174/174 [==============================] - 817s 5s/step - loss: 0.3615 - accuracy: 0.8792 - val_loss: 0.3776 - val_accuracy: 0.8880\n",
      "Epoch 9/100\n",
      "174/174 [==============================] - 819s 5s/step - loss: 0.3638 - accuracy: 0.8784 - val_loss: 0.3650 - val_accuracy: 0.8945\n",
      "Epoch 10/100\n",
      "174/174 [==============================] - 814s 5s/step - loss: 0.3544 - accuracy: 0.8846 - val_loss: 0.3723 - val_accuracy: 0.8884\n",
      "Epoch 11/100\n",
      "174/174 [==============================] - 812s 5s/step - loss: 0.3533 - accuracy: 0.8861 - val_loss: 0.3824 - val_accuracy: 0.8934\n",
      "Epoch 12/100\n",
      "174/174 [==============================] - 814s 5s/step - loss: 0.3324 - accuracy: 0.8887 - val_loss: 0.3714 - val_accuracy: 0.8927\n"
     ]
    }
   ],
   "source": [
    "import os\n",
    "os.environ[\"CUDA_VISIBLE_DEVICES\"] = \"0\"\n",
    "meta_train = np.zeros(shape = (len(train_seq),8))\n",
    "meta_test = np.zeros(shape = (len(test_seq),8))\n",
    "FLAG = True\n",
    "i = 0\n",
    "for tr_ind,te_ind in skf.split(train_labels):\n",
    "    i +=1\n",
    "    print('FOLD: '.format(i))\n",
    "    print(len(te_ind),len(tr_ind)) \n",
    "    model_name = 'benchmark_textcnn_fold_'+str(i)\n",
    "    X_train,X_train_label = train_seq[tr_ind],train_labels[tr_ind]\n",
    "    X_val,X_val_label     = train_seq[te_ind],train_labels[te_ind]\n",
    "    \n",
    "    model = TextCNN(max_len,max_cnt,embed_size,num_filters,kernel_size,conv_action,mask_zero)\n",
    "    \n",
    "    \n",
    "    \n",
    "    \n",
    "    model_save_path = './NN/%s_%s.hdf5'%(model_name,embed_size)\n",
    "    early_stopping =EarlyStopping(monitor='val_loss', patience=3)\n",
    "    model_checkpoint = ModelCheckpoint(model_save_path, save_best_only=True, save_weights_only=True)\n",
    "    if TRAIN and FLAG:\n",
    "        model.fit(X_train,X_train_label,validation_data=(X_val,X_val_label),epochs=100,batch_size=64,shuffle=True,callbacks=[early_stopping,model_checkpoint] )\n",
    "    \n",
    "    #model.load_weights(model_save_path)\n",
    "    #pred_val = model.predict(X_val,batch_size=128,verbose=1)\n",
    "    #pred_test = model.predict(test_seq,batch_size=128,verbose=1)\n",
    "    \n",
    "    #meta_train[te_ind] = pred_val\n",
    "    #meta_test += pred_test\n",
    "    #K.clear_session()\n",
    "#meta_test /= 5.0 "
   ]
  },
  {
   "cell_type": "markdown",
   "metadata": {
    "uuid": "1b43b3f7-66b0-41fc-ae3d-15a53cc50d2d"
   },
   "source": [
    "### 5折结果提交"
   ]
  },
  {
   "cell_type": "code",
   "execution_count": 26,
   "metadata": {
    "collapsed": true,
    "uuid": "96291c1d-0446-4ef9-a9f9-9997479f85bf"
   },
   "outputs": [],
   "source": [
    "#五折\n",
    "test_df['prob0'] = 0\n",
    "test_df['prob1'] = 0\n",
    "test_df['prob2'] = 0\n",
    "test_df['prob3'] = 0\n",
    "test_df['prob4'] = 0\n",
    "test_df['prob5'] = 0\n",
    "test_df['prob6'] = 0\n",
    "test_df['prob7'] = 0\n",
    "\n",
    "test_df[['prob0','prob1','prob2','prob3','prob4','prob5','prob6','prob7']] = meta_test\n",
    "test_df[['file_id','prob0','prob1','prob2','prob3','prob4','prob5','prob6','prob7']].to_csv('nn_baseline_5fold.csv',index = None)"
   ]
  },
  {
   "cell_type": "markdown",
   "metadata": {
    "uuid": "772b8989-c2ba-4699-a4b7-11dd971f1860"
   },
   "source": [
    "# 小结"
   ]
  },
  {
   "cell_type": "markdown",
   "metadata": {
    "uuid": "93ca21b9-e8ea-434c-9ce0-557d0fa3c3d0"
   },
   "source": [
    "在这一小节,我们对api序列进行建模,我们把文件调用api的序列当做文本,并采用TextCNN的方式对文本进行分类,实验的结果比基于LGB算法的模型的结果还要高一些。"
   ]
  },
  {
   "cell_type": "code",
   "execution_count": null,
   "metadata": {
    "collapsed": true,
    "uuid": "ff1272db-70bc-4613-b7be-0f7bb665323f"
   },
   "outputs": [],
   "source": []
  }
 ],
 "metadata": {
  "kernelspec": {
   "display_name": "Python 3",
   "language": "python",
   "name": "python3"
  },
  "language_info": {
   "codemirror_mode": {
    "name": "ipython",
    "version": 3
   },
   "file_extension": ".py",
   "mimetype": "text/x-python",
   "name": "python",
   "nbconvert_exporter": "python",
   "pygments_lexer": "ipython3",
   "version": "3.6.2"
  },
  "tianchi_metadata": {
   "competitions": [],
   "datasets": [
    {
     "id": "9788",
     "title": "阿里云"
    }
   ],
   "description": "",
   "notebookId": "41819",
   "source": "ailab"
  }
 },
 "nbformat": 4,
 "nbformat_minor": 4
}
