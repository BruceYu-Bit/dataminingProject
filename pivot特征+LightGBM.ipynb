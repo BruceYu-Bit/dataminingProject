{
 "cells": [
  {
   "cell_type": "code",
   "execution_count": 1,
   "metadata": {},
   "outputs": [
    {
     "name": "stderr",
     "output_type": "stream",
     "text": [
      "/home/bruceyu/anaconda3/lib/python3.6/site-packages/dask/dataframe/utils.py:14: FutureWarning: pandas.util.testing is deprecated. Use the functions in the public API at pandas.testing instead.\n",
      "  import pandas.util.testing as tm\n"
     ]
    }
   ],
   "source": [
    "#导入必要的包\n",
    "import pandas as pd\n",
    "import numpy as np\n",
    "import seaborn as sns\n",
    "import  matplotlib.pyplot as plt\n",
    "\n",
    "import lightgbm as lgb\n",
    "from sklearn.model_selection import train_test_split\n",
    "from sklearn.preprocessing import OneHotEncoder\n",
    "#忽略警告\n",
    "import warnings\n",
    "warnings.filterwarnings(\"ignore\")\n"
   ]
  },
  {
   "cell_type": "code",
   "execution_count": 2,
   "metadata": {},
   "outputs": [
    {
     "name": "stdout",
     "output_type": "stream",
     "text": [
      "   file_id  label                     api   tid  index\n",
      "0        1      5              LdrLoadDll  2488      0\n",
      "1        1      5  LdrGetProcedureAddress  2488      1\n",
      "2        1      5  LdrGetProcedureAddress  2488      2\n",
      "3        1      5  LdrGetProcedureAddress  2488      3\n",
      "4        1      5  LdrGetProcedureAddress  2488      4\n",
      "5        1      5  LdrGetProcedureAddress  2488      5\n",
      "6        1      5  LdrGetProcedureAddress  2488      6\n",
      "7        1      5  LdrGetProcedureAddress  2488      7\n",
      "8        1      5  LdrGetProcedureAddress  2488      8\n",
      "9        1      5  LdrGetProcedureAddress  2488      9\n"
     ]
    }
   ],
   "source": [
    "#读取数据\n",
    "train = pd.read_csv(\"./security_train.csv\")\n",
    "test = pd.read_csv(\"./security_test.csv\")\n",
    "#查看训练数据的前10行信息\n",
    "print(train.head(10))"
   ]
  },
  {
   "cell_type": "code",
   "execution_count": 3,
   "metadata": {},
   "outputs": [
    {
     "name": "stdout",
     "output_type": "stream",
     "text": [
      "<class 'pandas.core.frame.DataFrame'>\n",
      "RangeIndex: 89806693 entries, 0 to 89806692\n",
      "Data columns (total 5 columns):\n",
      " #   Column   Dtype \n",
      "---  ------   ----- \n",
      " 0   file_id  int64 \n",
      " 1   label    int64 \n",
      " 2   api      object\n",
      " 3   tid      int64 \n",
      " 4   index    int64 \n",
      "dtypes: int64(4), object(1)\n",
      "memory usage: 3.3+ GB\n"
     ]
    }
   ],
   "source": [
    "#查看训练集的大小、类型等信息\n",
    "train.info()"
   ]
  },
  {
   "cell_type": "markdown",
   "metadata": {},
   "source": [
    "## 从运行结果中可以看出：\n",
    "### （1）数据中有4个int64类型(file_id,lable,tid,index)的数据和1个object类型的数据（api）\n",
    "### （2）整个数据集的大小3.3GB\n",
    "### （3）数据一共有89806692条记录"
   ]
  },
  {
   "cell_type": "code",
   "execution_count": 5,
   "metadata": {},
   "outputs": [
    {
     "data": {
      "text/html": [
       "<div>\n",
       "<style scoped>\n",
       "    .dataframe tbody tr th:only-of-type {\n",
       "        vertical-align: middle;\n",
       "    }\n",
       "\n",
       "    .dataframe tbody tr th {\n",
       "        vertical-align: top;\n",
       "    }\n",
       "\n",
       "    .dataframe thead th {\n",
       "        text-align: right;\n",
       "    }\n",
       "</style>\n",
       "<table border=\"1\" class=\"dataframe\">\n",
       "  <thead>\n",
       "    <tr style=\"text-align: right;\">\n",
       "      <th></th>\n",
       "      <th>file_id</th>\n",
       "      <th>label</th>\n",
       "      <th>tid</th>\n",
       "      <th>index</th>\n",
       "    </tr>\n",
       "  </thead>\n",
       "  <tbody>\n",
       "    <tr>\n",
       "      <th>count</th>\n",
       "      <td>8.980669e+07</td>\n",
       "      <td>8.980669e+07</td>\n",
       "      <td>8.980669e+07</td>\n",
       "      <td>8.980669e+07</td>\n",
       "    </tr>\n",
       "    <tr>\n",
       "      <th>mean</th>\n",
       "      <td>7.078770e+03</td>\n",
       "      <td>3.862835e+00</td>\n",
       "      <td>2.533028e+03</td>\n",
       "      <td>1.547521e+03</td>\n",
       "    </tr>\n",
       "    <tr>\n",
       "      <th>std</th>\n",
       "      <td>3.998794e+03</td>\n",
       "      <td>2.393783e+00</td>\n",
       "      <td>6.995798e+02</td>\n",
       "      <td>1.412249e+03</td>\n",
       "    </tr>\n",
       "    <tr>\n",
       "      <th>min</th>\n",
       "      <td>1.000000e+00</td>\n",
       "      <td>0.000000e+00</td>\n",
       "      <td>1.000000e+02</td>\n",
       "      <td>0.000000e+00</td>\n",
       "    </tr>\n",
       "    <tr>\n",
       "      <th>25%</th>\n",
       "      <td>3.637000e+03</td>\n",
       "      <td>2.000000e+00</td>\n",
       "      <td>2.356000e+03</td>\n",
       "      <td>3.490000e+02</td>\n",
       "    </tr>\n",
       "    <tr>\n",
       "      <th>50%</th>\n",
       "      <td>7.161000e+03</td>\n",
       "      <td>5.000000e+00</td>\n",
       "      <td>2.564000e+03</td>\n",
       "      <td>1.085000e+03</td>\n",
       "    </tr>\n",
       "    <tr>\n",
       "      <th>75%</th>\n",
       "      <td>1.055100e+04</td>\n",
       "      <td>5.000000e+00</td>\n",
       "      <td>2.776000e+03</td>\n",
       "      <td>2.503000e+03</td>\n",
       "    </tr>\n",
       "    <tr>\n",
       "      <th>max</th>\n",
       "      <td>1.388700e+04</td>\n",
       "      <td>7.000000e+00</td>\n",
       "      <td>2.089600e+04</td>\n",
       "      <td>5.000000e+03</td>\n",
       "    </tr>\n",
       "  </tbody>\n",
       "</table>\n",
       "</div>"
      ],
      "text/plain": [
       "            file_id         label           tid         index\n",
       "count  8.980669e+07  8.980669e+07  8.980669e+07  8.980669e+07\n",
       "mean   7.078770e+03  3.862835e+00  2.533028e+03  1.547521e+03\n",
       "std    3.998794e+03  2.393783e+00  6.995798e+02  1.412249e+03\n",
       "min    1.000000e+00  0.000000e+00  1.000000e+02  0.000000e+00\n",
       "25%    3.637000e+03  2.000000e+00  2.356000e+03  3.490000e+02\n",
       "50%    7.161000e+03  5.000000e+00  2.564000e+03  1.085000e+03\n",
       "75%    1.055100e+04  5.000000e+00  2.776000e+03  2.503000e+03\n",
       "max    1.388700e+04  7.000000e+00  2.089600e+04  5.000000e+03"
      ]
     },
     "execution_count": 5,
     "metadata": {},
     "output_type": "execute_result"
    }
   ],
   "source": [
    "train.describe()"
   ]
  },
  {
   "cell_type": "code",
   "execution_count": 8,
   "metadata": {},
   "outputs": [
    {
     "data": {
      "image/png": "[encoded data removed]",
      "text/plain": [
       "<Figure size 432x288 with 1 Axes>"
      ]
     },
     "metadata": {},
     "output_type": "display_data"
    }
   ],
   "source": [
    "#箱线图查看单个变量的分布，以训练集中tid变量的前10000条数据绘制箱线图\n",
    "sns.boxplot(y=train.iloc[:10000][\"tid\"])\n",
    "plt.show()"
   ]
  },
  {
   "cell_type": "code",
   "execution_count": 9,
   "metadata": {},
   "outputs": [
    {
     "data": {
      "text/plain": [
       "file_id    13887\n",
       "label          8\n",
       "api          295\n",
       "tid         2782\n",
       "index       5001\n",
       "dtype: int64"
      ]
     },
     "execution_count": 9,
     "metadata": {},
     "output_type": "execute_result"
    }
   ],
   "source": [
    "#用nunique函数查看训练集中的变量取值分布\n",
    "train.nunique()"
   ]
  },
  {
   "cell_type": "code",
   "execution_count": 10,
   "metadata": {},
   "outputs": [
    {
     "data": {
      "text/plain": [
       "file_id    0\n",
       "label      0\n",
       "api        0\n",
       "tid        0\n",
       "index      0\n",
       "dtype: int64"
      ]
     },
     "execution_count": 10,
     "metadata": {},
     "output_type": "execute_result"
    }
   ],
   "source": [
    "#查看训练集数据的缺少情况--结论不存在缺少\n",
    "train.isnull().sum()"
   ]
  },
  {
   "cell_type": "code",
   "execution_count": 11,
   "metadata": {},
   "outputs": [
    {
     "data": {
      "text/plain": [
       "count    8.980669e+07\n",
       "mean     1.547521e+03\n",
       "std      1.412249e+03\n",
       "min      0.000000e+00\n",
       "25%      3.490000e+02\n",
       "50%      1.085000e+03\n",
       "75%      2.503000e+03\n",
       "max      5.000000e+03\n",
       "Name: index, dtype: float64"
      ]
     },
     "execution_count": 11,
     "metadata": {},
     "output_type": "execute_result"
    }
   ],
   "source": [
    "#判断是否有异常值--最大值最小值符合范围\n",
    "train['index'].describe()"
   ]
  },
  {
   "cell_type": "code",
   "execution_count": 12,
   "metadata": {},
   "outputs": [
    {
     "data": {
      "text/plain": [
       "count    8.980669e+07\n",
       "mean     2.533028e+03\n",
       "std      6.995798e+02\n",
       "min      1.000000e+02\n",
       "25%      2.356000e+03\n",
       "50%      2.564000e+03\n",
       "75%      2.776000e+03\n",
       "max      2.089600e+04\n",
       "Name: tid, dtype: float64"
      ]
     },
     "execution_count": 12,
     "metadata": {},
     "output_type": "execute_result"
    }
   ],
   "source": [
    "#判断是否有异常值--最大值最小值符合范围\n",
    "train['tid'].describe()"
   ]
  },
  {
   "cell_type": "code",
   "execution_count": 16,
   "metadata": {},
   "outputs": [
    {
     "data": {
      "text/html": [
       "<div>\n",
       "<style scoped>\n",
       "    .dataframe tbody tr th:only-of-type {\n",
       "        vertical-align: middle;\n",
       "    }\n",
       "\n",
       "    .dataframe tbody tr th {\n",
       "        vertical-align: top;\n",
       "    }\n",
       "\n",
       "    .dataframe thead th {\n",
       "        text-align: right;\n",
       "    }\n",
       "</style>\n",
       "<table border=\"1\" class=\"dataframe\">\n",
       "  <thead>\n",
       "    <tr style=\"text-align: right;\">\n",
       "      <th></th>\n",
       "      <th>file_id</th>\n",
       "      <th>api</th>\n",
       "      <th>tid</th>\n",
       "      <th>index</th>\n",
       "    </tr>\n",
       "  </thead>\n",
       "  <tbody>\n",
       "    <tr>\n",
       "      <th>0</th>\n",
       "      <td>1</td>\n",
       "      <td>RegOpenKeyExA</td>\n",
       "      <td>2332</td>\n",
       "      <td>0</td>\n",
       "    </tr>\n",
       "    <tr>\n",
       "      <th>1</th>\n",
       "      <td>1</td>\n",
       "      <td>CopyFileA</td>\n",
       "      <td>2332</td>\n",
       "      <td>1</td>\n",
       "    </tr>\n",
       "    <tr>\n",
       "      <th>2</th>\n",
       "      <td>1</td>\n",
       "      <td>OpenSCManagerA</td>\n",
       "      <td>2332</td>\n",
       "      <td>2</td>\n",
       "    </tr>\n",
       "    <tr>\n",
       "      <th>3</th>\n",
       "      <td>1</td>\n",
       "      <td>CreateServiceA</td>\n",
       "      <td>2332</td>\n",
       "      <td>3</td>\n",
       "    </tr>\n",
       "    <tr>\n",
       "      <th>4</th>\n",
       "      <td>1</td>\n",
       "      <td>RegOpenKeyExA</td>\n",
       "      <td>2468</td>\n",
       "      <td>0</td>\n",
       "    </tr>\n",
       "  </tbody>\n",
       "</table>\n",
       "</div>"
      ],
      "text/plain": [
       "   file_id             api   tid  index\n",
       "0        1   RegOpenKeyExA  2332      0\n",
       "1        1       CopyFileA  2332      1\n",
       "2        1  OpenSCManagerA  2332      2\n",
       "3        1  CreateServiceA  2332      3\n",
       "4        1   RegOpenKeyExA  2468      0"
      ]
     },
     "execution_count": 16,
     "metadata": {},
     "output_type": "execute_result"
    }
   ],
   "source": [
    "#测试集数据探索\n",
    "test.head()"
   ]
  },
  {
   "cell_type": "code",
   "execution_count": 17,
   "metadata": {},
   "outputs": [
    {
     "name": "stdout",
     "output_type": "stream",
     "text": [
      "<class 'pandas.core.frame.DataFrame'>\n",
      "RangeIndex: 79288375 entries, 0 to 79288374\n",
      "Data columns (total 4 columns):\n",
      " #   Column   Dtype \n",
      "---  ------   ----- \n",
      " 0   file_id  int64 \n",
      " 1   api      object\n",
      " 2   tid      int64 \n",
      " 3   index    int64 \n",
      "dtypes: int64(3), object(1)\n",
      "memory usage: 2.4+ GB\n"
     ]
    }
   ],
   "source": [
    "#查看测试集大小、数据类型信息\n",
    "test.info()"
   ]
  },
  {
   "cell_type": "code",
   "execution_count": 18,
   "metadata": {},
   "outputs": [
    {
     "data": {
      "text/plain": [
       "file_id    0\n",
       "api        0\n",
       "tid        0\n",
       "index      0\n",
       "dtype: int64"
      ]
     },
     "execution_count": 18,
     "metadata": {},
     "output_type": "execute_result"
    }
   ],
   "source": [
    "#查看测试集数据的缺失情况\n",
    "test.isnull().sum()"
   ]
  },
  {
   "cell_type": "code",
   "execution_count": 19,
   "metadata": {},
   "outputs": [
    {
     "data": {
      "text/plain": [
       "file_id    12955\n",
       "api          298\n",
       "tid         2047\n",
       "index       5001\n",
       "dtype: int64"
      ]
     },
     "execution_count": 19,
     "metadata": {},
     "output_type": "execute_result"
    }
   ],
   "source": [
    "#查看测试集中变量的取值分布\n",
    "test.nunique()"
   ]
  },
  {
   "cell_type": "code",
   "execution_count": 20,
   "metadata": {},
   "outputs": [
    {
     "data": {
      "text/plain": [
       "count    7.928838e+07\n",
       "mean     1.584815e+03\n",
       "std      1.411116e+03\n",
       "min      0.000000e+00\n",
       "25%      3.900000e+02\n",
       "50%      1.131000e+03\n",
       "75%      2.547000e+03\n",
       "max      5.000000e+03\n",
       "Name: index, dtype: float64"
      ]
     },
     "execution_count": 20,
     "metadata": {},
     "output_type": "execute_result"
    }
   ],
   "source": [
    "#异常值\n",
    "test['index'].describe()"
   ]
  },
  {
   "cell_type": "code",
   "execution_count": 21,
   "metadata": {},
   "outputs": [
    {
     "data": {
      "text/plain": [
       "count    7.928838e+07\n",
       "mean     2.491914e+03\n",
       "std      5.824600e+02\n",
       "min      1.000000e+02\n",
       "25%      2.360000e+03\n",
       "50%      2.556000e+03\n",
       "75%      2.752000e+03\n",
       "max      9.196000e+03\n",
       "Name: tid, dtype: float64"
      ]
     },
     "execution_count": 21,
     "metadata": {},
     "output_type": "execute_result"
    }
   ],
   "source": [
    "test['tid'].describe() "
   ]
  },
  {
   "cell_type": "code",
   "execution_count": 22,
   "metadata": {},
   "outputs": [
    {
     "data": {
      "text/plain": [
       "932"
      ]
     },
     "execution_count": 22,
     "metadata": {},
     "output_type": "execute_result"
    }
   ],
   "source": [
    "train_fields = train['file_id'].unique()\n",
    "test_fileds = test['file_id'].unique()\n",
    "len(set(train_fields)-set(test_fileds))"
   ]
  },
  {
   "cell_type": "code",
   "execution_count": 23,
   "metadata": {},
   "outputs": [
    {
     "data": {
      "text/plain": [
       "0"
      ]
     },
     "execution_count": 23,
     "metadata": {},
     "output_type": "execute_result"
    }
   ],
   "source": [
    "len(set(test_fileds)-set(train_fields))"
   ]
  },
  {
   "cell_type": "code",
   "execution_count": 24,
   "metadata": {},
   "outputs": [
    {
     "data": {
      "text/plain": [
       "{'EncryptMessage', 'RtlCompressBuffer', 'WSASendTo'}"
      ]
     },
     "execution_count": 24,
     "metadata": {},
     "output_type": "execute_result"
    }
   ],
   "source": [
    "#API分析\n",
    "train_apis = train['api'].unique()\n",
    "test_apis = test['api'].unique()\n",
    "set(train_apis)-set(test_apis)"
   ]
  },
  {
   "cell_type": "code",
   "execution_count": 26,
   "metadata": {},
   "outputs": [
    {
     "data": {
      "text/plain": [
       "{'CreateDirectoryExW',\n",
       " 'InternetGetConnectedStateExA',\n",
       " 'MessageBoxTimeoutW',\n",
       " 'NtCreateUserProcess',\n",
       " 'NtDeleteFile',\n",
       " 'TaskDialog'}"
      ]
     },
     "execution_count": 26,
     "metadata": {},
     "output_type": "execute_result"
    }
   ],
   "source": [
    "set(test_apis)-set(train_apis)"
   ]
  },
  {
   "cell_type": "code",
   "execution_count": 30,
   "metadata": {},
   "outputs": [],
   "source": [
    "#内存管理\n",
    "class _Data_Preprocess:\n",
    "    def __init__(self):\n",
    "        self.int8_max = np.iinfo(np.int8).max\n",
    "        self.int8_min = np.iinfo(np.int8).min\n",
    "\n",
    "        self.int16_max = np.iinfo(np.int16).max\n",
    "        self.int16_min = np.iinfo(np.int16).min\n",
    "\n",
    "        self.int32_max = np.iinfo(np.int32).max\n",
    "        self.int32_min = np.iinfo(np.int32).min\n",
    "\n",
    "        self.int64_max = np.iinfo(np.int64).max\n",
    "        self.int64_min = np.iinfo(np.int64).min\n",
    "\n",
    "        self.float16_max = np.finfo(np.float16).max\n",
    "        self.float16_min = np.finfo(np.float16).min\n",
    "\n",
    "        self.float32_max = np.finfo(np.float32).max\n",
    "        self.float32_min = np.finfo(np.float32).min\n",
    "\n",
    "        self.float64_max = np.finfo(np.float64).max\n",
    "        self.float64_min = np.finfo(np.float64).min\n",
    "\n",
    "    def _get_type(self,min_val,max_val,types):\n",
    "        if types == 'int':\n",
    "            if max_val<=self.int8_max and min_val>=self.int8_min:\n",
    "                return np.int8\n",
    "            elif max_val<= self.int16_max and min_val>=self.int16_min:\n",
    "                return np.int16\n",
    "            elif max_val<= self.int32_max and min_val>=self.int32_min:\n",
    "                return np.int32\n",
    "            return None\n",
    "        elif types == 'float':\n",
    "            if max_val <= self.float16_max and min_val >= self.float16_min:\n",
    "                return np.float16\n",
    "            elif max_val <= self.float32_max and min_val >= self.float32_min:\n",
    "                return np.float32\n",
    "            elif max_val <= self.float64_max and min_val >= self.float64_min:\n",
    "                return np.float64\n",
    "            return None\n",
    "\n",
    "    def _memory_process(self,df):\n",
    "        init_memory = df.memory_usage().sum()/1024**2/1024\n",
    "        print('Original data occupies {} GB memory.'.format(init_memory))\n",
    "        df_cols = df.columns\n",
    "        for col in tqdm_notebook(df_cols):\n",
    "            try:\n",
    "                if 'float' in str(df[col].dtypes):\n",
    "                    max_val = df[col].max()\n",
    "                    min_val = df[col].min()\n",
    "                    trans_types = self._get_type(min_val,max_val,'float')\n",
    "                    if trans_types is not None:\n",
    "                        df[col] = df[col].astype(trans_types)\n",
    "                elif 'int' in str(df[col].dtypes):\n",
    "                    max_val = df[col].max()\n",
    "                    min_val = df[col].min()\n",
    "                    trans_types = self._get_type(min_val, max_val, 'int')\n",
    "                    if trans_types is not None:\n",
    "                        df[col] = df[col].astype(trans_types)\n",
    "            except:\n",
    "                print('can not do any process for column,{}.'.format(col))\n",
    "                afterprocess_memory = df.memory_usage().sum()/1024**2/1024\n",
    "                print('after processing, the data occupies {} GB memory.'.format(afterprocess_memory))\n",
    "                return df\n",
    "\n",
    "meomory_process = _Data_Preprocess()"
   ]
  },
  {
   "cell_type": "markdown",
   "metadata": {},
   "source": [
    "# 特征工程与基线模型"
   ]
  },
  {
   "cell_type": "code",
   "execution_count": 31,
   "metadata": {
    "collapsed": true
   },
   "outputs": [],
   "source": [
    "def simple_sts_feature(df):\n",
    "    simple_feature = pd.DataFrame()\n",
    "    simple_feature['file_id'] = df['file_id'].unique()\n",
    "    simple_feature['file_id'] = simple_feature.sort_values('file_id')\n",
    "\n",
    "    df_grp = df.groupby('file_id')   \n",
    "    simple_feature['file_id_api_count'] = df_grp['api'].count().values\n",
    "    \n",
    "    simple_feature['file_id_api_nunique'] = df_grp['api'].nunique().values\n",
    "\n",
    "    simple_feature['file_id_tid_count'] = df_grp['tid'].count().values\n",
    "    simple_feature['file_id_tid_nunique'] = df_grp['tid'].nunique().values\n",
    "\n",
    "    simple_feature['file_id_index_count'] = df_grp['index'].count().values\n",
    "    simple_feature['file_id_index_nunique'] = df_grp['index'].nunique().values\n",
    "\n",
    "    return simple_feature"
   ]
  },
  {
   "cell_type": "code",
   "execution_count": 32,
   "metadata": {
    "collapsed": true
   },
   "outputs": [],
   "source": [
    "def simple_numerical_sts_feature(df):\n",
    "    simple_feature = pd.DataFrame()\n",
    "    simple_feature['file_id'] = df['file_id'].unique()\n",
    "    simple_feature['file_id'] = simple_feature.sort_values('file_id')\n",
    "\n",
    "    df_grp = df.groupby('file_id')\n",
    "\n",
    "    simple_feature['file_id_tid_mean'] = df_grp['tid'].mean().values\n",
    "    simple_feature['file_id_tid_min'] = df_grp['tid'].min().values\n",
    "    simple_feature['file_id_tid_max'] = df_grp['tid'].max().values\n",
    "    simple_feature['file_id_tid_std'] = df_grp['tid'].std().values\n",
    "\n",
    "    simple_feature['file_id_index_mean'] = df_grp['index'].mean().values\n",
    "    simple_feature['file_id_index_min'] = df_grp['index'].min().values\n",
    "    simple_feature['file_id_index_max'] = df_grp['index'].max().values\n",
    "    simple_feature['file_id_index_std'] = df_grp['index'].std().values\n",
    "\n",
    "    return simple_feature"
   ]
  },
  {
   "cell_type": "code",
   "execution_count": 33,
   "metadata": {
    "collapsed": true
   },
   "outputs": [],
   "source": [
    "#构建特征\n",
    "simple_train_feature1 = simple_sts_feature(train)\n",
    "simple_test_feature1 = simple_sts_feature(test)\n",
    "\n",
    "\n",
    "simple_train_feature2 = simple_numerical_sts_feature(train)\n",
    "simple_test_feature2 = simple_numerical_sts_feature(test)"
   ]
  },
  {
   "cell_type": "code",
   "execution_count": 52,
   "metadata": {},
   "outputs": [],
   "source": [
    "from tqdm import tqdm, tqdm_notebook\n",
    "#特征工程进阶\n",
    "def api_pivot_count_features(df):\n",
    "    tmp = df.groupby(\n",
    "        ['file_id','api']\n",
    "    )['tid'].count().to_frame('api_tid_count').reset_index()\n",
    "    tmp_pivot = pd.pivot_table(data = tmp,index='file_id',columns='api',values='api_tid_count',fill_value=0)\n",
    "    \n",
    "    tmp_pivot.columns = [tmp_pivot.columns.names[0]+'_pivot_'+str(col) for col in tmp_pivot.columns]\n",
    "    \n",
    "    tmp_pivot.reset_index(inplace=True)\n",
    "#     tmp_pivot = meomory_process._memory_process(tmp_pivot)\n",
    "    \n",
    "    return tmp_pivot\n",
    "\n",
    "def api_pivot_nunique_features(df):\n",
    "    tmp = df.groupby(\n",
    "        ['file_id', 'api']\n",
    "    )['tid'].nunique().to_frame('api_tid_nunique').reset_index()\n",
    "    tmp_pivot = pd.pivot_table(data=tmp, index='file_id', columns='api', values='api_tid_nunique', fill_value=0)\n",
    "    tmp_pivot.columns = [tmp_pivot.columns.names[0] + '_pivot_' + str(col) for col in tmp_pivot.columns]\n",
    "    tmp_pivot.reset_index(inplace=True)\n",
    "#     tmp_pivot = meomory_process._memory_process(tmp_pivot)\n",
    "    return tmp_pivot\n"
   ]
  },
  {
   "cell_type": "code",
   "execution_count": 53,
   "metadata": {},
   "outputs": [
    {
     "name": "stdout",
     "output_type": "stream",
     "text": [
      "       file_id  api_pivot_AssignProcessToJobObject  \\\n",
      "0            1                                   0   \n",
      "1            2                                   0   \n",
      "2            3                                   0   \n",
      "3            4                                   0   \n",
      "4            5                                   0   \n",
      "...        ...                                 ...   \n",
      "13882    13883                                   0   \n",
      "13883    13884                                   0   \n",
      "13884    13885                                   0   \n",
      "13885    13886                                   0   \n",
      "13886    13887                                   0   \n",
      "\n",
      "       api_pivot_CertControlStore  api_pivot_CertCreateCertificateContext  \\\n",
      "0                               0                                       0   \n",
      "1                               0                                       0   \n",
      "2                               0                                       0   \n",
      "3                               0                                       0   \n",
      "4                               0                                       0   \n",
      "...                           ...                                     ...   \n",
      "13882                           0                                       0   \n",
      "13883                           0                                       0   \n",
      "13884                           0                                       0   \n",
      "13885                           0                                       0   \n",
      "13886                           0                                       0   \n",
      "\n",
      "       api_pivot_CertOpenStore  api_pivot_CertOpenSystemStoreA  \\\n",
      "0                            0                               0   \n",
      "1                            0                               0   \n",
      "2                            0                               0   \n",
      "3                            0                               0   \n",
      "4                            0                               0   \n",
      "...                        ...                             ...   \n",
      "13882                        0                               0   \n",
      "13883                        0                               0   \n",
      "13884                        0                               0   \n",
      "13885                        0                               0   \n",
      "13886                        0                               0   \n",
      "\n",
      "       api_pivot_CertOpenSystemStoreW  api_pivot_CoCreateInstance  \\\n",
      "0                                   0                          15   \n",
      "1                                   0                           0   \n",
      "2                                   0                           0   \n",
      "3                                   0                           0   \n",
      "4                                   0                           4   \n",
      "...                               ...                         ...   \n",
      "13882                               0                        1333   \n",
      "13883                               0                          21   \n",
      "13884                               0                           0   \n",
      "13885                               0                           0   \n",
      "13886                               0                           0   \n",
      "\n",
      "       api_pivot_CoCreateInstanceEx  api_pivot_CoGetClassObject  ...  \\\n",
      "0                                 1                          19  ...   \n",
      "1                                 0                           0  ...   \n",
      "2                                 0                           0  ...   \n",
      "3                                 0                           0  ...   \n",
      "4                                 0                           0  ...   \n",
      "...                             ...                         ...  ...   \n",
      "13882                            30                          30  ...   \n",
      "13883                             1                           1  ...   \n",
      "13884                             0                           1  ...   \n",
      "13885                             0                           0  ...   \n",
      "13886                             0                           0  ...   \n",
      "\n",
      "       api_pivot_recv  api_pivot_recvfrom  api_pivot_select  api_pivot_send  \\\n",
      "0                   0                   0                 0               0   \n",
      "1                   0                   0                 0               0   \n",
      "2                   0                   0                 0               0   \n",
      "3                   0                   0                 0               0   \n",
      "4                   0                   0                 0               0   \n",
      "...               ...                 ...               ...             ...   \n",
      "13882               0                   0                 0               0   \n",
      "13883               0                   0                 0               0   \n",
      "13884               0                   0                 0               0   \n",
      "13885               0                   0                 0               0   \n",
      "13886               0                   0                 0               0   \n",
      "\n",
      "       api_pivot_sendto  api_pivot_setsockopt  api_pivot_shutdown  \\\n",
      "0                     0                     0                   0   \n",
      "1                     0                     0                   0   \n",
      "2                     0                     0                   0   \n",
      "3                     0                     0                   0   \n",
      "4                     0                     0                   0   \n",
      "...                 ...                   ...                 ...   \n",
      "13882                 0                     0                   0   \n",
      "13883                 0                     0                   0   \n",
      "13884                 0                     0                   0   \n",
      "13885                 0                     0                   0   \n",
      "13886                 0                     0                   0   \n",
      "\n",
      "       api_pivot_socket  api_pivot_system  api_pivot_timeGetTime  \n",
      "0                     4                 0                      0  \n",
      "1                     8                 0                      0  \n",
      "2                     0                 0                      0  \n",
      "3                     0                 0                      0  \n",
      "4                     0                 0                      0  \n",
      "...                 ...               ...                    ...  \n",
      "13882                 0                 0                      0  \n",
      "13883                 0                 0                      0  \n",
      "13884                 0                 0                      0  \n",
      "13885                 0                 0                      0  \n",
      "13886                 0                 0                      0  \n",
      "\n",
      "[13887 rows x 296 columns]\n"
     ]
    }
   ],
   "source": [
    "#特征获取\n",
    "simple_train_feature3 = api_pivot_count_features(train)\n",
    "simple_test_feature3 = api_pivot_count_features(test)\n",
    "\n",
    "simple_train_feature4 = api_pivot_nunique_features(train)\n",
    "simple_test_feature4 = api_pivot_nunique_features(test)\n",
    "print(simple_train_feature3)"
   ]
  },
  {
   "cell_type": "code",
   "execution_count": 26,
   "metadata": {},
   "outputs": [
    {
     "name": "stdout",
     "output_type": "stream",
     "text": [
      "       file_id  file_id_api_count  file_id_api_nunique  file_id_tid_count  \\\n",
      "0            1                 97                   15                 97   \n",
      "1            2               1361                   40               1361   \n",
      "2            3                 16                    9                 16   \n",
      "3            4                193                   34                193   \n",
      "4            5                803                   34                803   \n",
      "...        ...                ...                  ...                ...   \n",
      "12950    12951                289                   37                289   \n",
      "12951    12952                112                   28                112   \n",
      "12952    12953               5095                   72               5095   \n",
      "12953    12954               2951                   65               2951   \n",
      "12954    12955               2038                   54               2038   \n",
      "\n",
      "       file_id_tid_nunique  file_id_index_count  file_id_index_nunique  \n",
      "0                        4                   97                     31  \n",
      "1                        7                 1361                    681  \n",
      "2                        1                   16                     16  \n",
      "3                        3                  193                    193  \n",
      "4                        3                  803                    268  \n",
      "...                    ...                  ...                    ...  \n",
      "12950                    6                  289                    145  \n",
      "12951                    1                  112                    112  \n",
      "12952                   15                 5095                   1464  \n",
      "12953                    4                 2951                   1445  \n",
      "12954                    3                 2038                   1451  \n",
      "\n",
      "[12955 rows x 7 columns]\n"
     ]
    }
   ],
   "source": [
    "print(simple_test_feature1)"
   ]
  },
  {
   "cell_type": "code",
   "execution_count": 27,
   "metadata": {},
   "outputs": [
    {
     "name": "stdout",
     "output_type": "stream",
     "text": [
      "       file_id  file_id_tid_mean  file_id_tid_min  file_id_tid_max  \\\n",
      "0            1       2537.987622             2488             2812   \n",
      "1            2       2471.000000             2320             2604   \n",
      "2            3       2208.000000             2208             2208   \n",
      "3            4       2430.727273             2284             2980   \n",
      "4            5       2549.731254             2500             2676   \n",
      "...        ...               ...              ...              ...   \n",
      "13882    13883       3544.762896              100             6568   \n",
      "13883    13884       2592.118271             2592             2748   \n",
      "13884    13885       2242.544046             2240             2744   \n",
      "13885    13886       2483.399549             2324             2836   \n",
      "13886    13887       2336.000000             2336             2336   \n",
      "\n",
      "       file_id_tid_std  file_id_index_mean  file_id_index_min  \\\n",
      "0            83.881299         2000.806955                  0   \n",
      "1           101.506783          101.500000                  0   \n",
      "2             0.000000          231.000000                  0   \n",
      "3           150.460506          511.012219                  0   \n",
      "4            49.556301         2500.000000                  0   \n",
      "...                ...                 ...                ...   \n",
      "13882      1405.045515          401.480987                  0   \n",
      "13883         4.295386          659.000000                  0   \n",
      "13884        33.152020          516.000000                  0   \n",
      "13885       154.796790         1173.050414                  0   \n",
      "13886         0.000000          311.000000                  0   \n",
      "\n",
      "       file_id_index_max  file_id_index_std  \n",
      "0                   5000        1510.694221  \n",
      "1                    203          58.925137  \n",
      "2                    462         133.800847  \n",
      "3                   1027         295.407885  \n",
      "4                   5000        1443.736493  \n",
      "...                  ...                ...  \n",
      "13882               5000        1008.636040  \n",
      "13883               1318         380.906813  \n",
      "13884               1032         298.345717  \n",
      "13885               2502         755.545651  \n",
      "13886                622         179.988889  \n",
      "\n",
      "[13887 rows x 9 columns]\n"
     ]
    }
   ],
   "source": [
    "print(simple_train_feature2)"
   ]
  },
  {
   "cell_type": "code",
   "execution_count": 28,
   "metadata": {},
   "outputs": [
    {
     "name": "stdout",
     "output_type": "stream",
     "text": [
      "       file_id  file_id_tid_mean  file_id_tid_min  file_id_tid_max  \\\n",
      "0            1       2518.639175             2332             2568   \n",
      "1            2       2576.864071             2472             2748   \n",
      "2            3       2344.000000             2344             2344   \n",
      "3            4       2476.331606             2452             2584   \n",
      "4            5       2496.149440             2332             2780   \n",
      "...        ...               ...              ...              ...   \n",
      "12950    12951       2716.539792             2644             2980   \n",
      "12951    12952       2264.000000             2264             2264   \n",
      "12952    12953       2622.118155             2324             2884   \n",
      "12953    12954       2593.646899             2424             2700   \n",
      "12954    12955       2695.163886             2500             2740   \n",
      "\n",
      "       file_id_tid_std  file_id_index_mean  file_id_index_min  \\\n",
      "0            57.218548           14.443299                  0   \n",
      "1           104.399149          339.750184                  0   \n",
      "2             0.000000            7.500000                  0   \n",
      "3            50.951508           96.000000                  0   \n",
      "4           201.826813          133.333748                  0   \n",
      "...                ...                 ...                ...   \n",
      "12950        75.402526           71.750865                  0   \n",
      "12951         0.000000           55.500000                  0   \n",
      "12952       196.695730          538.423749                  0   \n",
      "12953       126.124152          596.701796                  0   \n",
      "12954        78.912837          560.742885                  0   \n",
      "\n",
      "       file_id_index_max  file_id_index_std  \n",
      "0                     30           9.210466  \n",
      "1                    680         196.515744  \n",
      "2                     15           4.760952  \n",
      "3                    192          55.858452  \n",
      "4                    267          77.317048  \n",
      "...                  ...                ...  \n",
      "12950                144          41.786414  \n",
      "12951                111          32.475632  \n",
      "12952               1463         393.605016  \n",
      "12953               1444         397.358069  \n",
      "12954               1450         440.983364  \n",
      "\n",
      "[12955 rows x 9 columns]\n"
     ]
    }
   ],
   "source": [
    "print(simple_test_feature2)"
   ]
  },
  {
   "cell_type": "code",
   "execution_count": 54,
   "metadata": {},
   "outputs": [
    {
     "data": {
      "text/html": [
       "<div>\n",
       "<style scoped>\n",
       "    .dataframe tbody tr th:only-of-type {\n",
       "        vertical-align: middle;\n",
       "    }\n",
       "\n",
       "    .dataframe tbody tr th {\n",
       "        vertical-align: top;\n",
       "    }\n",
       "\n",
       "    .dataframe thead th {\n",
       "        text-align: right;\n",
       "    }\n",
       "</style>\n",
       "<table border=\"1\" class=\"dataframe\">\n",
       "  <thead>\n",
       "    <tr style=\"text-align: right;\">\n",
       "      <th></th>\n",
       "      <th>file_id</th>\n",
       "    </tr>\n",
       "  </thead>\n",
       "  <tbody>\n",
       "    <tr>\n",
       "      <th>0</th>\n",
       "      <td>1</td>\n",
       "    </tr>\n",
       "    <tr>\n",
       "      <th>97</th>\n",
       "      <td>2</td>\n",
       "    </tr>\n",
       "    <tr>\n",
       "      <th>1458</th>\n",
       "      <td>3</td>\n",
       "    </tr>\n",
       "    <tr>\n",
       "      <th>1474</th>\n",
       "      <td>4</td>\n",
       "    </tr>\n",
       "    <tr>\n",
       "      <th>1667</th>\n",
       "      <td>5</td>\n",
       "    </tr>\n",
       "    <tr>\n",
       "      <th>...</th>\n",
       "      <td>...</td>\n",
       "    </tr>\n",
       "    <tr>\n",
       "      <th>79277890</th>\n",
       "      <td>12951</td>\n",
       "    </tr>\n",
       "    <tr>\n",
       "      <th>79278179</th>\n",
       "      <td>12952</td>\n",
       "    </tr>\n",
       "    <tr>\n",
       "      <th>79278291</th>\n",
       "      <td>12953</td>\n",
       "    </tr>\n",
       "    <tr>\n",
       "      <th>79283386</th>\n",
       "      <td>12954</td>\n",
       "    </tr>\n",
       "    <tr>\n",
       "      <th>79286337</th>\n",
       "      <td>12955</td>\n",
       "    </tr>\n",
       "  </tbody>\n",
       "</table>\n",
       "<p>12955 rows × 1 columns</p>\n",
       "</div>"
      ],
      "text/plain": [
       "          file_id\n",
       "0               1\n",
       "97              2\n",
       "1458            3\n",
       "1474            4\n",
       "1667            5\n",
       "...           ...\n",
       "79277890    12951\n",
       "79278179    12952\n",
       "79278291    12953\n",
       "79283386    12954\n",
       "79286337    12955\n",
       "\n",
       "[12955 rows x 1 columns]"
      ]
     },
     "execution_count": 54,
     "metadata": {},
     "output_type": "execute_result"
    }
   ],
   "source": [
    "#获取标签\n",
    "train_label = train[['file_id','label']].drop_duplicates(subset = ['file_id','label'],keep = 'first')\n",
    "test_submit = test[['file_id']].drop_duplicates(subset = ['file_id'],keep = 'first')\n",
    "\n",
    "train_label\n",
    "test_submit"
   ]
  },
  {
   "cell_type": "code",
   "execution_count": 55,
   "metadata": {},
   "outputs": [
    {
     "name": "stdout",
     "output_type": "stream",
     "text": [
      "       file_id  api_pivot_AssignProcessToJobObject  \\\n",
      "0            1                                   0   \n",
      "1            2                                   0   \n",
      "2            3                                   0   \n",
      "3            4                                   0   \n",
      "4            5                                   0   \n",
      "...        ...                                 ...   \n",
      "13882    13883                                   0   \n",
      "13883    13884                                   0   \n",
      "13884    13885                                   0   \n",
      "13885    13886                                   0   \n",
      "13886    13887                                   0   \n",
      "\n",
      "       api_pivot_CertControlStore  api_pivot_CertCreateCertificateContext  \\\n",
      "0                               0                                       0   \n",
      "1                               0                                       0   \n",
      "2                               0                                       0   \n",
      "3                               0                                       0   \n",
      "4                               0                                       0   \n",
      "...                           ...                                     ...   \n",
      "13882                           0                                       0   \n",
      "13883                           0                                       0   \n",
      "13884                           0                                       0   \n",
      "13885                           0                                       0   \n",
      "13886                           0                                       0   \n",
      "\n",
      "       api_pivot_CertOpenStore  api_pivot_CertOpenSystemStoreA  \\\n",
      "0                            0                               0   \n",
      "1                            0                               0   \n",
      "2                            0                               0   \n",
      "3                            0                               0   \n",
      "4                            0                               0   \n",
      "...                        ...                             ...   \n",
      "13882                        0                               0   \n",
      "13883                        0                               0   \n",
      "13884                        0                               0   \n",
      "13885                        0                               0   \n",
      "13886                        0                               0   \n",
      "\n",
      "       api_pivot_CertOpenSystemStoreW  api_pivot_CoCreateInstance  \\\n",
      "0                                   0                          15   \n",
      "1                                   0                           0   \n",
      "2                                   0                           0   \n",
      "3                                   0                           0   \n",
      "4                                   0                           4   \n",
      "...                               ...                         ...   \n",
      "13882                               0                        1333   \n",
      "13883                               0                          21   \n",
      "13884                               0                           0   \n",
      "13885                               0                           0   \n",
      "13886                               0                           0   \n",
      "\n",
      "       api_pivot_CoCreateInstanceEx  api_pivot_CoGetClassObject  ...  \\\n",
      "0                                 1                          19  ...   \n",
      "1                                 0                           0  ...   \n",
      "2                                 0                           0  ...   \n",
      "3                                 0                           0  ...   \n",
      "4                                 0                           0  ...   \n",
      "...                             ...                         ...  ...   \n",
      "13882                            30                          30  ...   \n",
      "13883                             1                           1  ...   \n",
      "13884                             0                           1  ...   \n",
      "13885                             0                           0  ...   \n",
      "13886                             0                           0  ...   \n",
      "\n",
      "       api_pivot_recv  api_pivot_recvfrom  api_pivot_select  api_pivot_send  \\\n",
      "0                   0                   0                 0               0   \n",
      "1                   0                   0                 0               0   \n",
      "2                   0                   0                 0               0   \n",
      "3                   0                   0                 0               0   \n",
      "4                   0                   0                 0               0   \n",
      "...               ...                 ...               ...             ...   \n",
      "13882               0                   0                 0               0   \n",
      "13883               0                   0                 0               0   \n",
      "13884               0                   0                 0               0   \n",
      "13885               0                   0                 0               0   \n",
      "13886               0                   0                 0               0   \n",
      "\n",
      "       api_pivot_sendto  api_pivot_setsockopt  api_pivot_shutdown  \\\n",
      "0                     0                     0                   0   \n",
      "1                     0                     0                   0   \n",
      "2                     0                     0                   0   \n",
      "3                     0                     0                   0   \n",
      "4                     0                     0                   0   \n",
      "...                 ...                   ...                 ...   \n",
      "13882                 0                     0                   0   \n",
      "13883                 0                     0                   0   \n",
      "13884                 0                     0                   0   \n",
      "13885                 0                     0                   0   \n",
      "13886                 0                     0                   0   \n",
      "\n",
      "       api_pivot_socket  api_pivot_system  api_pivot_timeGetTime  \n",
      "0                     4                 0                      0  \n",
      "1                     8                 0                      0  \n",
      "2                     0                 0                      0  \n",
      "3                     0                 0                      0  \n",
      "4                     0                 0                      0  \n",
      "...                 ...               ...                    ...  \n",
      "13882                 0                 0                      0  \n",
      "13883                 0                 0                      0  \n",
      "13884                 0                 0                      0  \n",
      "13885                 0                 0                      0  \n",
      "13886                 0                 0                      0  \n",
      "\n",
      "[13887 rows x 296 columns]\n"
     ]
    }
   ],
   "source": [
    "#训练集和测试集的构建\n",
    "train_data = train_label.merge(simple_train_feature1,on='file_id',how = 'left')\n",
    "train_data = train_data.merge(simple_train_feature2,on='file_id',how = 'left')\n",
    "print(simple_train_feature3)\n",
    "train_data = train_data.merge(simple_train_feature3,on='file_id',how = 'left')\n",
    "train_data = train_data.merge(simple_train_feature4,on='file_id',how = 'left')\n",
    "\n",
    "test_submit = test_submit.merge(simple_test_feature1,on='file_id',how = 'left')\n",
    "test_submit = test_submit.merge(simple_test_feature2,on='file_id',how = 'left')\n",
    "test_submit = test_submit.merge(simple_test_feature3,on='file_id',how = 'left')\n",
    "test_submit = test_submit.merge(simple_test_feature4,on='file_id',how = 'left')"
   ]
  },
  {
   "cell_type": "code",
   "execution_count": 56,
   "metadata": {},
   "outputs": [
    {
     "name": "stdout",
     "output_type": "stream",
     "text": [
      "       file_id  label  file_id_api_count  file_id_api_nunique  \\\n",
      "0            1      5               6786                  116   \n",
      "1            2      2                816                   30   \n",
      "2            3      0                463                   42   \n",
      "3            4      0               2046                   51   \n",
      "4            5      0              10002                   65   \n",
      "...        ...    ...                ...                  ...   \n",
      "13882    13883      2             178221                   71   \n",
      "13883    13884      5               1319                   39   \n",
      "13884    13885      0               1033                   71   \n",
      "13885    13886      1               5316                   80   \n",
      "13886    13887      2                623                   37   \n",
      "\n",
      "       file_id_tid_count  file_id_tid_nunique  file_id_index_count  \\\n",
      "0                   6786                   11                 6786   \n",
      "1                    816                    4                  816   \n",
      "2                    463                    1                  463   \n",
      "3                   2046                    9                 2046   \n",
      "4                  10002                    6                10002   \n",
      "...                  ...                  ...                  ...   \n",
      "13882             178221                  998               178221   \n",
      "13883               1319                    2                 1319   \n",
      "13884               1033                    3                 1033   \n",
      "13885               5316                   10                 5316   \n",
      "13886                623                    1                  623   \n",
      "\n",
      "       file_id_index_nunique  file_id_tid_mean  file_id_tid_min  ...  \\\n",
      "0                       5001       2537.987622             2488  ...   \n",
      "1                        204       2471.000000             2320  ...   \n",
      "2                        463       2208.000000             2208  ...   \n",
      "3                       1028       2430.727273             2284  ...   \n",
      "4                       5001       2549.731254             2500  ...   \n",
      "...                      ...               ...              ...  ...   \n",
      "13882                   5001       3544.762896              100  ...   \n",
      "13883                   1319       2592.118271             2592  ...   \n",
      "13884                   1033       2242.544046             2240  ...   \n",
      "13885                   2503       2483.399549             2324  ...   \n",
      "13886                    623       2336.000000             2336  ...   \n",
      "\n",
      "       api_pivot_recv_y  api_pivot_recvfrom_y  api_pivot_select_y  \\\n",
      "0                     0                     0                   0   \n",
      "1                     0                     0                   0   \n",
      "2                     0                     0                   0   \n",
      "3                     0                     0                   0   \n",
      "4                     0                     0                   0   \n",
      "...                 ...                   ...                 ...   \n",
      "13882                 0                     0                   0   \n",
      "13883                 0                     0                   0   \n",
      "13884                 0                     0                   0   \n",
      "13885                 0                     0                   0   \n",
      "13886                 0                     0                   0   \n",
      "\n",
      "       api_pivot_send_y  api_pivot_sendto_y  api_pivot_setsockopt_y  \\\n",
      "0                     0                   0                       0   \n",
      "1                     0                   0                       0   \n",
      "2                     0                   0                       0   \n",
      "3                     0                   0                       0   \n",
      "4                     0                   0                       0   \n",
      "...                 ...                 ...                     ...   \n",
      "13882                 0                   0                       0   \n",
      "13883                 0                   0                       0   \n",
      "13884                 0                   0                       0   \n",
      "13885                 0                   0                       0   \n",
      "13886                 0                   0                       0   \n",
      "\n",
      "       api_pivot_shutdown_y  api_pivot_socket_y  api_pivot_system_y  \\\n",
      "0                         0                   1                   0   \n",
      "1                         0                   4                   0   \n",
      "2                         0                   0                   0   \n",
      "3                         0                   0                   0   \n",
      "4                         0                   0                   0   \n",
      "...                     ...                 ...                 ...   \n",
      "13882                     0                   0                   0   \n",
      "13883                     0                   0                   0   \n",
      "13884                     0                   0                   0   \n",
      "13885                     0                   0                   0   \n",
      "13886                     0                   0                   0   \n",
      "\n",
      "       api_pivot_timeGetTime_y  \n",
      "0                            0  \n",
      "1                            0  \n",
      "2                            0  \n",
      "3                            0  \n",
      "4                            0  \n",
      "...                        ...  \n",
      "13882                        0  \n",
      "13883                        0  \n",
      "13884                        0  \n",
      "13885                        0  \n",
      "13886                        0  \n",
      "\n",
      "[13887 rows x 606 columns]\n"
     ]
    }
   ],
   "source": [
    "#查看训练集和测试集\n",
    "print(train_data)"
   ]
  },
  {
   "cell_type": "code",
   "execution_count": 57,
   "metadata": {},
   "outputs": [
    {
     "name": "stdout",
     "output_type": "stream",
     "text": [
      "       file_id  file_id_api_count  file_id_api_nunique  file_id_tid_count  \\\n",
      "0            1                 97                   15                 97   \n",
      "1            2               1361                   40               1361   \n",
      "2            3                 16                    9                 16   \n",
      "3            4                193                   34                193   \n",
      "4            5                803                   34                803   \n",
      "...        ...                ...                  ...                ...   \n",
      "12950    12951                289                   37                289   \n",
      "12951    12952                112                   28                112   \n",
      "12952    12953               5095                   72               5095   \n",
      "12953    12954               2951                   65               2951   \n",
      "12954    12955               2038                   54               2038   \n",
      "\n",
      "       file_id_tid_nunique  file_id_index_count  file_id_index_nunique  \\\n",
      "0                        4                   97                     31   \n",
      "1                        7                 1361                    681   \n",
      "2                        1                   16                     16   \n",
      "3                        3                  193                    193   \n",
      "4                        3                  803                    268   \n",
      "...                    ...                  ...                    ...   \n",
      "12950                    6                  289                    145   \n",
      "12951                    1                  112                    112   \n",
      "12952                   15                 5095                   1464   \n",
      "12953                    4                 2951                   1445   \n",
      "12954                    3                 2038                   1451   \n",
      "\n",
      "       file_id_tid_mean  file_id_tid_min  file_id_tid_max  ...  \\\n",
      "0           2518.639175             2332             2568  ...   \n",
      "1           2576.864071             2472             2748  ...   \n",
      "2           2344.000000             2344             2344  ...   \n",
      "3           2476.331606             2452             2584  ...   \n",
      "4           2496.149440             2332             2780  ...   \n",
      "...                 ...              ...              ...  ...   \n",
      "12950       2716.539792             2644             2980  ...   \n",
      "12951       2264.000000             2264             2264  ...   \n",
      "12952       2622.118155             2324             2884  ...   \n",
      "12953       2593.646899             2424             2700  ...   \n",
      "12954       2695.163886             2500             2740  ...   \n",
      "\n",
      "       api_pivot_recv_y  api_pivot_recvfrom_y  api_pivot_select_y  \\\n",
      "0                     0                     0                   0   \n",
      "1                     0                     0                   0   \n",
      "2                     0                     0                   0   \n",
      "3                     0                     0                   0   \n",
      "4                     0                     0                   0   \n",
      "...                 ...                   ...                 ...   \n",
      "12950                 0                     0                   0   \n",
      "12951                 0                     0                   0   \n",
      "12952                 0                     0                   0   \n",
      "12953                 0                     0                   1   \n",
      "12954                 0                     0                   0   \n",
      "\n",
      "       api_pivot_send_y  api_pivot_sendto_y  api_pivot_setsockopt_y  \\\n",
      "0                     0                   0                       0   \n",
      "1                     0                   0                       0   \n",
      "2                     0                   0                       0   \n",
      "3                     0                   0                       0   \n",
      "4                     0                   0                       0   \n",
      "...                 ...                 ...                     ...   \n",
      "12950                 0                   0                       0   \n",
      "12951                 0                   0                       0   \n",
      "12952                 0                   0                       0   \n",
      "12953                 0                   0                       1   \n",
      "12954                 0                   0                       0   \n",
      "\n",
      "       api_pivot_shutdown_y  api_pivot_socket_y  api_pivot_system_y  \\\n",
      "0                         0                   0                   0   \n",
      "1                         0                   0                   0   \n",
      "2                         0                   0                   0   \n",
      "3                         0                   0                   0   \n",
      "4                         0                   0                   0   \n",
      "...                     ...                 ...                 ...   \n",
      "12950                     0                   0                   0   \n",
      "12951                     0                   0                   0   \n",
      "12952                     0                   0                   0   \n",
      "12953                     0                   1                   0   \n",
      "12954                     0                   0                   0   \n",
      "\n",
      "       api_pivot_timeGetTime_y  \n",
      "0                            0  \n",
      "1                            0  \n",
      "2                            0  \n",
      "3                            0  \n",
      "4                            0  \n",
      "...                        ...  \n",
      "12950                        0  \n",
      "12951                        0  \n",
      "12952                        0  \n",
      "12953                        0  \n",
      "12954                        0  \n",
      "\n",
      "[12955 rows x 611 columns]\n"
     ]
    }
   ],
   "source": [
    "print(test_submit)"
   ]
  },
  {
   "cell_type": "code",
   "execution_count": 58,
   "metadata": {
    "collapsed": true
   },
   "outputs": [],
   "source": [
    "def lgb_logloss(preds,data):\n",
    "    labels = data.get_label()\n",
    "    classes = np.unique(labels)\n",
    "    preds_prob = []\n",
    "    for i in range(len(classes)):\n",
    "        preds_prob.append(preds[i*len(labels):(i+1)*len(labels)])    \n",
    "    preds_prob =  np.vstack(preds_prob)\n",
    "    loss=[]\n",
    "    for i in range(preds_prob.shape[1]):#样本个数\n",
    "        sum = 0\n",
    "        for j in range(preds_prob.shape[0]):#类别个数\n",
    "            pred = preds_prob[j,i]#第i个样本预测为第j类的概率\n",
    "            if j==labels[i]:\n",
    "                sum+=np.log(pred)\n",
    "            else:     \n",
    "                sum+=np.log(1-pred)\n",
    "        loss.append(sum)\n",
    "    return 'loss is:',-1*(np.sum(loss)/preds_prob.shape[1]),False"
   ]
  },
  {
   "cell_type": "code",
   "execution_count": 59,
   "metadata": {},
   "outputs": [
    {
     "name": "stdout",
     "output_type": "stream",
     "text": [
      "fold n 0\n",
      "Training until validation scores don't improve for 100 rounds\n",
      "[50]\ttraining's multi_logloss: 0.183626\ttraining's loss is:: 0.341959\tvalid_1's multi_logloss: 0.341377\tvalid_1's loss is:: 0.586353\n",
      "[100]\ttraining's multi_logloss: 0.0363207\ttraining's loss is:: 0.0715909\tvalid_1's multi_logloss: 0.329024\tvalid_1's loss is:: 0.569227\n",
      "[150]\ttraining's multi_logloss: 0.00770209\ttraining's loss is:: 0.0153632\tvalid_1's multi_logloss: 0.374909\tvalid_1's loss is:: 0.654556\n",
      "Early stopping, best iteration is:\n",
      "[73]\ttraining's multi_logloss: 0.0871876\ttraining's loss is:: 0.168299\tvalid_1's multi_logloss: 0.32096\tvalid_1's loss is:: 0.552405\n",
      "fold n 1\n",
      "Training until validation scores don't improve for 100 rounds\n",
      "[50]\ttraining's multi_logloss: 0.1821\ttraining's loss is:: 0.339742\tvalid_1's multi_logloss: 0.371503\tvalid_1's loss is:: 0.626954\n",
      "[100]\ttraining's multi_logloss: 0.0361332\ttraining's loss is:: 0.0712726\tvalid_1's multi_logloss: 0.361585\tvalid_1's loss is:: 0.612793\n",
      "[150]\ttraining's multi_logloss: 0.00768985\ttraining's loss is:: 0.0153376\tvalid_1's multi_logloss: 0.415334\tvalid_1's loss is:: 0.707089\n",
      "Early stopping, best iteration is:\n",
      "[72]\ttraining's multi_logloss: 0.0889021\ttraining's loss is:: 0.171715\tvalid_1's multi_logloss: 0.350917\tvalid_1's loss is:: 0.593296\n",
      "fold n 2\n",
      "Training until validation scores don't improve for 100 rounds\n",
      "[50]\ttraining's multi_logloss: 0.175981\ttraining's loss is:: 0.328958\tvalid_1's multi_logloss: 0.388225\tvalid_1's loss is:: 0.657502\n",
      "[100]\ttraining's multi_logloss: 0.0344636\ttraining's loss is:: 0.068053\tvalid_1's multi_logloss: 0.383424\tvalid_1's loss is:: 0.65584\n",
      "[150]\ttraining's multi_logloss: 0.00713817\ttraining's loss is:: 0.0142411\tvalid_1's multi_logloss: 0.450465\tvalid_1's loss is:: 0.778353\n",
      "Early stopping, best iteration is:\n",
      "[74]\ttraining's multi_logloss: 0.0811854\ttraining's loss is:: 0.157282\tvalid_1's multi_logloss: 0.367735\tvalid_1's loss is:: 0.625504\n",
      "fold n 3\n",
      "Training until validation scores don't improve for 100 rounds\n",
      "[50]\ttraining's multi_logloss: 0.177899\ttraining's loss is:: 0.332452\tvalid_1's multi_logloss: 0.377664\tvalid_1's loss is:: 0.64568\n",
      "[100]\ttraining's multi_logloss: 0.0354042\ttraining's loss is:: 0.0698921\tvalid_1's multi_logloss: 0.367743\tvalid_1's loss is:: 0.635107\n",
      "[150]\ttraining's multi_logloss: 0.00735677\ttraining's loss is:: 0.0146766\tvalid_1's multi_logloss: 0.427919\tvalid_1's loss is:: 0.747544\n",
      "Early stopping, best iteration is:\n",
      "[78]\ttraining's multi_logloss: 0.0722351\ttraining's loss is:: 0.140503\tvalid_1's multi_logloss: 0.354184\tvalid_1's loss is:: 0.608974\n",
      "fold n 4\n",
      "Training until validation scores don't improve for 100 rounds\n",
      "[50]\ttraining's multi_logloss: 0.177758\ttraining's loss is:: 0.331869\tvalid_1's multi_logloss: 0.376319\tvalid_1's loss is:: 0.642748\n",
      "[100]\ttraining's multi_logloss: 0.0353322\ttraining's loss is:: 0.0696341\tvalid_1's multi_logloss: 0.365457\tvalid_1's loss is:: 0.632649\n",
      "[150]\ttraining's multi_logloss: 0.00715906\ttraining's loss is:: 0.014278\tvalid_1's multi_logloss: 0.414343\tvalid_1's loss is:: 0.723776\n",
      "Early stopping, best iteration is:\n",
      "[72]\ttraining's multi_logloss: 0.0878893\ttraining's loss is:: 0.169472\tvalid_1's multi_logloss: 0.355331\tvalid_1's loss is:: 0.611135\n"
     ]
    }
   ],
   "source": [
    "#线下验证\n",
    "train_features = [col for col in train_data.columns if col not in ['label','file_id']]\n",
    "train_label = 'label'\n",
    "from sklearn.model_selection import StratifiedKFold,KFold\n",
    "params = {\n",
    "    'task':'train',\n",
    "    'num_leaves':255,\n",
    "    'objective':'multiclass',\n",
    "    'num_class':8,\n",
    "    'min_data_in_leaf':50,\n",
    "    'learning_rate':0.05,\n",
    "    'feature_fraction':0.85,\n",
    "    'bagging_fraction':0.85,\n",
    "    'bagging_freq':5,\n",
    "    'max_bin':128,\n",
    "    'random_state':100,\n",
    "    'verbosity': -1 \n",
    "}\n",
    "folds =KFold(n_splits=5,shuffle=True,random_state=15)\n",
    "oof = np.zeros(len(train))\n",
    "\n",
    "predict_res = 0\n",
    "models = []\n",
    "import lightgbm as lgb\n",
    "for fold,(trn_id,val_id) in enumerate(folds.split(train_data)):\n",
    "    print(\"fold n {}\".format(fold))\n",
    "    trn_data = lgb.Dataset(train_data.iloc[trn_id][train_features],label=train_data.iloc[trn_id][train_label].values)\n",
    "    val_data = lgb.Dataset(train_data.iloc[val_id][train_features], label=train_data.iloc[val_id][train_label].values)\n",
    "    clf = lgb.train(params,trn_data,num_boost_round=2000,valid_sets=[trn_data,val_data],verbose_eval=50,early_stopping_rounds=100,feval=lgb_logloss)\n",
    "    models.append(clf)"
   ]
  },
  {
   "cell_type": "code",
   "execution_count": 61,
   "metadata": {},
   "outputs": [
    {
     "data": {
      "image/png": "[encoded data removed]",
      "text/plain": [
       "<Figure size 720x576 with 2 Axes>"
      ]
     },
     "metadata": {},
     "output_type": "display_data"
    },
    {
     "data": {
      "image/png": "[encoded data removed]",
      "text/plain": [
       "<Figure size 720x576 with 2 Axes>"
      ]
     },
     "metadata": {},
     "output_type": "display_data"
    }
   ],
   "source": [
    "plt.figure(figsize=[10,8])\n",
    "sns.heatmap(train_data.iloc[:10000,1:21].corr())\n",
    "plt.show()"
   ]
  },
  {
   "cell_type": "code",
   "execution_count": 64,
   "metadata": {
    "scrolled": true
   },
   "outputs": [
    {
     "data": {
      "image/png": "[encoded data removed]",
      "text/plain": [
       "<Figure size 1440x576 with 1 Axes>"
      ]
     },
     "metadata": {},
     "output_type": "display_data"
    },
    {
     "data": {
      "image/png": "[encoded data removed]",
      "text/plain": [
       "<Figure size 1440x720 with 1 Axes>"
      ]
     },
     "metadata": {},
     "output_type": "display_data"
    },
    {
     "data": {
      "image/png": "[encoded data removed]",
      "text/plain": [
       "<Figure size 1440x720 with 1 Axes>"
      ]
     },
     "metadata": {},
     "output_type": "display_data"
    }
   ],
   "source": [
    "#特征重要性分析\n",
    "import seaborn as sns\n",
    "import matplotlib.pyplot as plt\n",
    "feature_importance = pd.DataFrame()\n",
    "feature_importance['fea_name'] = train_features\n",
    "feature_importance['fea_imp' ] = clf.feature_importance()\n",
    "feature_importance = feature_importance.sort_values('fea_imp',ascending=False)\n",
    "plt.figure(figsize=[20,10,])\n",
    "\n",
    "sns.barplot(x=feature_importance.iloc[:10]['fea_name'],y=feature_importance.iloc[:10]['fea_imp'])\n",
    "plt.show()\n",
    "\n",
    "\n",
    "plt.figure(figsize=[20,10,])\n",
    "\n",
    "sns.barplot(x=feature_importance['fea_name'],y=feature_importance['fea_imp'])\n",
    "plt.show()\n",
    "\n",
    "# ax = lgb.plot_tree(clf,tree_index=1,figsize=(20,8),show_info=['split_gain'])\n",
    "# plt.show()"
   ]
  },
  {
   "cell_type": "code",
   "execution_count": null,
   "metadata": {
    "collapsed": true
   },
   "outputs": [],
   "source": []
  }
 ],
 "metadata": {
  "kernelspec": {
   "display_name": "Python 3",
   "language": "python",
   "name": "python3"
  },
  "language_info": {
   "codemirror_mode": {
    "name": "ipython",
    "version": 3
   },
   "file_extension": ".py",
   "mimetype": "text/x-python",
   "name": "python",
   "nbconvert_exporter": "python",
   "pygments_lexer": "ipython3",
   "version": "3.6.2"
  }
 },
 "nbformat": 4,
 "nbformat_minor": 1
}
